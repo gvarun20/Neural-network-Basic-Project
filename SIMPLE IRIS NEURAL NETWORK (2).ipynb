{
 "cells": [
  {
   "cell_type": "code",
   "execution_count": 1,
   "id": "32801703",
   "metadata": {},
   "outputs": [
    {
     "name": "stdout",
     "output_type": "stream",
     "text": [
      "Requirement already satisfied: data in c:\\users\\hi\\anaconda3\\lib\\site-packages (0.4)\n",
      "Requirement already satisfied: decorator in c:\\users\\hi\\anaconda3\\lib\\site-packages (from data) (5.1.1)\n",
      "Requirement already satisfied: six in c:\\users\\hi\\anaconda3\\lib\\site-packages (from data) (1.16.0)\n",
      "Requirement already satisfied: funcsigs in c:\\users\\hi\\anaconda3\\lib\\site-packages (from data) (1.0.2)\n",
      "Note: you may need to restart the kernel to use updated packages.\n"
     ]
    }
   ],
   "source": [
    "pip install data\n"
   ]
  },
  {
   "cell_type": "code",
   "execution_count": 2,
   "id": "26157462",
   "metadata": {},
   "outputs": [],
   "source": [
    "import torch\n",
    "import torch.nn as nn\n",
    "import matplotlib.pyplot as plt\n",
    "\n",
    "from torch.autograd import Variable\n",
    "\n",
    "# Custom DataSet\n",
    "from sklearn.datasets import load_iris\n",
    "from sklearn.datasets import load_iris\n",
    "from sklearn.model_selection import train_test_split\n",
    "\n",
    "# Load the Iris dataset\n",
    "iris_data = load_iris()\n",
    "\n",
    "\n",
    "# Now you have the training and testing datasets in X_train, X_test, y_train, and y_test\n"
   ]
  },
  {
   "cell_type": "code",
   "execution_count": 3,
   "id": "5288748e",
   "metadata": {},
   "outputs": [],
   "source": [
    "class IrisNet(nn.Module):\n",
    "    \n",
    "    def __init__(self, input_size, hidden1_size, hidden2_size, num_classes):\n",
    "        \n",
    "        super(IrisNet, self).__init__()\n",
    "        self.fc1 = nn.Linear(input_size, hidden1_size)\n",
    "        self.relu1 = nn.ReLU()\n",
    "        self.fc2 = nn.Linear(hidden1_size, hidden2_size)\n",
    "        self.relu2 = nn.ReLU()\n",
    "        self.fc3 = nn.Linear(hidden2_size, num_classes)  \n",
    "    \n",
    "    def forward(self, x):\n",
    "        out = self.fc1(x)\n",
    "        out = self.relu1(out)\n",
    "        out = self.fc2(out)\n",
    "        out = self.relu2(out)\n",
    "        out = self.fc3(out)\n",
    "        return out"
   ]
  },
  {
   "cell_type": "code",
   "execution_count": 4,
   "id": "f6e57a70",
   "metadata": {},
   "outputs": [
    {
     "name": "stdout",
     "output_type": "stream",
     "text": [
      "IrisNet(\n",
      "  (fc1): Linear(in_features=4, out_features=100, bias=True)\n",
      "  (relu1): ReLU()\n",
      "  (fc2): Linear(in_features=100, out_features=50, bias=True)\n",
      "  (relu2): ReLU()\n",
      "  (fc3): Linear(in_features=50, out_features=3, bias=True)\n",
      ")\n"
     ]
    }
   ],
   "source": [
    "model = IrisNet(4, 100, 50, 3)\n",
    "print(model)"
   ]
  },
  {
   "cell_type": "code",
   "execution_count": 5,
   "id": "c3c09202",
   "metadata": {},
   "outputs": [],
   "source": [
    "batch_size = 60\n",
    "iris_data_file =  load_iris"
   ]
  },
  {
   "cell_type": "code",
   "execution_count": 8,
   "id": "7eceb2f7",
   "metadata": {},
   "outputs": [
    {
     "name": "stdout",
     "output_type": "stream",
     "text": [
      "# instances in training set:  120\n",
      "# instances in testing/validation set:  30\n"
     ]
    }
   ],
   "source": [
    "# Split the dataset into training and testing sets\n",
    "X_train, X_test, y_train, y_test = train_test_split(iris_data.data, iris_data.target, test_size=0.2, random_state=42)\n",
    "\n",
    "\n",
    "# How many instances have we got?\n",
    "print('# instances in training set: ', len(X_train))\n",
    "print('# instances in testing/validation set: ', len(X_test))\n",
    "\n",
    "# Create the dataloaders - for training and validation/testing\n",
    "# We will be using the term validation and testing data interchangably\n",
    "train_loader = torch.utils.data.DataLoader(dataset=X_train, batch_size=batch_size, shuffle=True)\n",
    "test_loader  = torch.utils.data.DataLoader(dataset=X_test, batch_size=batch_size, shuffle=True)"
   ]
  },
  {
   "cell_type": "code",
   "execution_count": 9,
   "id": "e6d32cfa",
   "metadata": {},
   "outputs": [],
   "source": [
    "# Our model\n",
    "net = IrisNet(4, 100, 50, 3)\n",
    "\n",
    "# Out loss function\n",
    "criterion = nn.CrossEntropyLoss()\n",
    "\n",
    "# Our optimizer\n",
    "learning_rate = 0.001\n",
    "optimizer = torch.optim.SGD(net.parameters(), lr=learning_rate, nesterov=True, momentum=0.9, dampening=0) "
   ]
  },
  {
   "cell_type": "code",
   "execution_count": 28,
   "id": "563622c1",
   "metadata": {},
   "outputs": [
    {
     "name": "stdout",
     "output_type": "stream",
     "text": [
      "tensor([[6.4000, 2.9000, 4.3000, 1.3000],\n",
      "        [5.7000, 2.8000, 4.1000, 1.3000],\n",
      "        [6.2000, 2.8000, 4.8000, 1.8000],\n",
      "        [6.7000, 3.3000, 5.7000, 2.1000],\n",
      "        [4.5000, 2.3000, 1.3000, 0.3000],\n",
      "        [5.8000, 2.6000, 4.0000, 1.2000],\n",
      "        [6.3000, 2.3000, 4.4000, 1.3000],\n",
      "        [6.5000, 3.0000, 5.5000, 1.8000],\n",
      "        [6.3000, 2.5000, 5.0000, 1.9000],\n",
      "        [5.1000, 3.8000, 1.6000, 0.2000],\n",
      "        [7.2000, 3.2000, 6.0000, 1.8000],\n",
      "        [4.6000, 3.4000, 1.4000, 0.3000],\n",
      "        [5.6000, 3.0000, 4.5000, 1.5000],\n",
      "        [4.6000, 3.2000, 1.4000, 0.2000],\n",
      "        [6.3000, 2.8000, 5.1000, 1.5000],\n",
      "        [5.7000, 2.9000, 4.2000, 1.3000],\n",
      "        [5.5000, 2.5000, 4.0000, 1.3000],\n",
      "        [6.5000, 2.8000, 4.6000, 1.5000],\n",
      "        [7.7000, 3.8000, 6.7000, 2.2000],\n",
      "        [4.9000, 3.0000, 1.4000, 0.2000],\n",
      "        [6.7000, 3.1000, 4.7000, 1.5000],\n",
      "        [5.7000, 3.0000, 4.2000, 1.2000],\n",
      "        [7.3000, 2.9000, 6.3000, 1.8000],\n",
      "        [5.4000, 3.4000, 1.7000, 0.2000],\n",
      "        [6.1000, 2.6000, 5.6000, 1.4000],\n",
      "        [7.0000, 3.2000, 4.7000, 1.4000],\n",
      "        [4.4000, 3.2000, 1.3000, 0.2000],\n",
      "        [4.7000, 3.2000, 1.3000, 0.2000],\n",
      "        [6.7000, 3.1000, 5.6000, 2.4000],\n",
      "        [5.4000, 3.9000, 1.3000, 0.4000],\n",
      "        [6.4000, 3.2000, 5.3000, 2.3000],\n",
      "        [6.2000, 3.4000, 5.4000, 2.3000],\n",
      "        [7.4000, 2.8000, 6.1000, 1.9000],\n",
      "        [4.6000, 3.1000, 1.5000, 0.2000],\n",
      "        [5.2000, 3.5000, 1.5000, 0.2000],\n",
      "        [5.8000, 2.7000, 5.1000, 1.9000],\n",
      "        [6.7000, 3.0000, 5.0000, 1.7000],\n",
      "        [4.9000, 2.4000, 3.3000, 1.0000],\n",
      "        [7.6000, 3.0000, 6.6000, 2.1000],\n",
      "        [5.9000, 3.0000, 4.2000, 1.5000],\n",
      "        [5.9000, 3.2000, 4.8000, 1.8000],\n",
      "        [5.5000, 2.6000, 4.4000, 1.2000],\n",
      "        [5.6000, 3.0000, 4.1000, 1.3000],\n",
      "        [6.0000, 2.2000, 5.0000, 1.5000],\n",
      "        [6.0000, 3.4000, 4.5000, 1.6000],\n",
      "        [6.9000, 3.1000, 5.4000, 2.1000],\n",
      "        [5.5000, 2.4000, 3.7000, 1.0000],\n",
      "        [5.1000, 3.4000, 1.5000, 0.2000],\n",
      "        [4.8000, 3.4000, 1.9000, 0.2000],\n",
      "        [5.7000, 2.6000, 3.5000, 1.0000],\n",
      "        [6.0000, 2.2000, 4.0000, 1.0000],\n",
      "        [7.7000, 2.8000, 6.7000, 2.0000],\n",
      "        [6.9000, 3.1000, 4.9000, 1.5000],\n",
      "        [6.0000, 2.7000, 5.1000, 1.6000],\n",
      "        [6.3000, 2.5000, 4.9000, 1.5000],\n",
      "        [6.6000, 3.0000, 4.4000, 1.4000],\n",
      "        [5.6000, 2.7000, 4.2000, 1.3000],\n",
      "        [5.1000, 3.8000, 1.9000, 0.4000],\n",
      "        [5.0000, 3.6000, 1.4000, 0.2000],\n",
      "        [5.0000, 3.3000, 1.4000, 0.2000]], dtype=torch.float64)\n",
      "tensor([[4.9000, 3.6000, 1.4000, 0.1000],\n",
      "        [5.8000, 2.8000, 5.1000, 2.4000],\n",
      "        [6.3000, 3.4000, 5.6000, 2.4000],\n",
      "        [7.7000, 3.0000, 6.1000, 2.3000],\n",
      "        [4.4000, 2.9000, 1.4000, 0.2000],\n",
      "        [6.3000, 2.9000, 5.6000, 1.8000],\n",
      "        [6.5000, 3.0000, 5.2000, 2.0000],\n",
      "        [6.6000, 2.9000, 4.6000, 1.3000],\n",
      "        [5.7000, 4.4000, 1.5000, 0.4000],\n",
      "        [5.0000, 3.2000, 1.2000, 0.2000],\n",
      "        [5.0000, 2.0000, 3.5000, 1.0000],\n",
      "        [4.4000, 3.0000, 1.3000, 0.2000],\n",
      "        [4.3000, 3.0000, 1.1000, 0.1000],\n",
      "        [6.8000, 3.0000, 5.5000, 2.1000],\n",
      "        [4.9000, 2.5000, 4.5000, 1.7000],\n",
      "        [5.5000, 2.3000, 4.0000, 1.3000],\n",
      "        [5.4000, 3.9000, 1.7000, 0.4000],\n",
      "        [6.4000, 3.2000, 4.5000, 1.5000],\n",
      "        [5.5000, 4.2000, 1.4000, 0.2000],\n",
      "        [7.2000, 3.6000, 6.1000, 2.5000],\n",
      "        [5.9000, 3.0000, 5.1000, 1.8000],\n",
      "        [4.6000, 3.6000, 1.0000, 0.2000],\n",
      "        [5.0000, 3.5000, 1.3000, 0.3000],\n",
      "        [5.1000, 3.3000, 1.7000, 0.5000],\n",
      "        [6.1000, 3.0000, 4.6000, 1.4000],\n",
      "        [7.1000, 3.0000, 5.9000, 2.1000],\n",
      "        [6.2000, 2.9000, 4.3000, 1.3000],\n",
      "        [5.0000, 3.5000, 1.6000, 0.6000],\n",
      "        [5.4000, 3.7000, 1.5000, 0.2000],\n",
      "        [6.7000, 3.3000, 5.7000, 2.5000],\n",
      "        [4.8000, 3.4000, 1.6000, 0.2000],\n",
      "        [7.2000, 3.0000, 5.8000, 1.6000],\n",
      "        [5.4000, 3.0000, 4.5000, 1.5000],\n",
      "        [6.1000, 2.9000, 4.7000, 1.4000],\n",
      "        [6.1000, 2.8000, 4.0000, 1.3000],\n",
      "        [5.2000, 4.1000, 1.5000, 0.1000],\n",
      "        [5.1000, 3.7000, 1.5000, 0.4000],\n",
      "        [5.8000, 4.0000, 1.2000, 0.2000],\n",
      "        [5.0000, 3.4000, 1.5000, 0.2000],\n",
      "        [5.1000, 2.5000, 3.0000, 1.1000],\n",
      "        [6.7000, 3.1000, 4.4000, 1.4000],\n",
      "        [5.5000, 2.4000, 3.8000, 1.1000],\n",
      "        [5.2000, 2.7000, 3.9000, 1.4000],\n",
      "        [5.1000, 3.5000, 1.4000, 0.2000],\n",
      "        [5.8000, 2.7000, 5.1000, 1.9000],\n",
      "        [6.4000, 2.7000, 5.3000, 1.9000],\n",
      "        [5.0000, 3.0000, 1.6000, 0.2000],\n",
      "        [5.1000, 3.5000, 1.4000, 0.3000],\n",
      "        [4.9000, 3.1000, 1.5000, 0.2000],\n",
      "        [6.4000, 3.1000, 5.5000, 1.8000],\n",
      "        [5.0000, 2.3000, 3.3000, 1.0000],\n",
      "        [5.8000, 2.7000, 4.1000, 1.0000],\n",
      "        [6.0000, 3.0000, 4.8000, 1.8000],\n",
      "        [5.6000, 2.8000, 4.9000, 2.0000],\n",
      "        [6.3000, 3.3000, 6.0000, 2.5000],\n",
      "        [6.9000, 3.2000, 5.7000, 2.3000],\n",
      "        [5.2000, 3.4000, 1.4000, 0.2000],\n",
      "        [6.3000, 2.7000, 4.9000, 1.8000],\n",
      "        [5.3000, 3.7000, 1.5000, 0.2000],\n",
      "        [5.7000, 2.5000, 5.0000, 2.0000]], dtype=torch.float64)\n"
     ]
    },
    {
     "ename": "ValueError",
     "evalue": "too many values to unpack (expected 2)",
     "output_type": "error",
     "traceback": [
      "\u001b[1;31m---------------------------------------------------------------------------\u001b[0m",
      "\u001b[1;31mValueError\u001b[0m                                Traceback (most recent call last)",
      "Cell \u001b[1;32mIn[28], line 17\u001b[0m\n\u001b[0;32m     14\u001b[0m \u001b[38;5;28;01mfor\u001b[39;00m i, data \u001b[38;5;129;01min\u001b[39;00m \u001b[38;5;28menumerate\u001b[39m(train_loader):\n\u001b[0;32m     15\u001b[0m    \u001b[38;5;66;03m# for i, data in enumerate(train_loader):\u001b[39;00m\n\u001b[0;32m     16\u001b[0m         \u001b[38;5;28mprint\u001b[39m(data)\n\u001b[1;32m---> 17\u001b[0m items, classes \u001b[38;5;241m=\u001b[39m data  \u001b[38;5;66;03m# Unpack the data tuple\u001b[39;00m\n\u001b[0;32m     19\u001b[0m      \u001b[38;5;66;03m# Convert torch tensor to Variable\u001b[39;00m\n\u001b[0;32m     20\u001b[0m items \u001b[38;5;241m=\u001b[39m items\u001b[38;5;241m.\u001b[39mfloat()  \u001b[38;5;66;03m# Convert to float type\u001b[39;00m\n",
      "\u001b[1;31mValueError\u001b[0m: too many values to unpack (expected 2)"
     ]
    }
   ],
   "source": [
    "num_epochs = 500\n",
    "\n",
    "train_loss = []\n",
    "test_loss = []\n",
    "train_accuracy = []\n",
    "test_accuracy = []\n",
    "\n",
    "for epoch in range(num_epochs):\n",
    "    \n",
    "    train_correct = 0\n",
    "    train_total = 0\n",
    "        \n",
    "    \n",
    "    for i, data in enumerate(train_loader):\n",
    "       # for i, data in enumerate(train_loader):\n",
    "            print(data)\n",
    "    items, classes = data  # Unpack the data tuple\n",
    "                     \n",
    "         # Convert torch tensor to Variable\n",
    "    items = items.float()  # Convert to float type\n",
    "    classes = classes.long()  # Convert to long type\n",
    "        \n",
    "    net.train()           # Put the network into training mode\n",
    "        \n",
    "    optimizer.zero_grad() # Clear off the gradients from any past operation\n",
    "    outputs = net(items)  # Do the forward pass\n",
    "    loss = criterion(outputs, classes) # Calculate the loss\n",
    "    loss.backward()       # Calculate the gradients with help of back propagation\n",
    "    optimizer.step()      # Ask the optimizer to adjust the parameters based on the gradients\n",
    "        \n",
    "        # Record the correct predictions for training data\n",
    "    train_total += classes.size(0)\n",
    "    _, predicted = torch.max(outputs, 1)\n",
    "    train_correct += (predicted == classes).sum().item()  # Use .item() to get a scalar value\n",
    "\n",
    "    print('Epoch %d/%d, Iteration %d/%d, Loss: %.4f' % (epoch + 1, num_epochs, i + 1, len(train_loader), loss.item()))\n",
    "\n",
    "net.eval()                 # Put the network into evaluation mode\n",
    "    \n",
    "    # Book keeping\n",
    "    # Record the loss\n",
    "train_loss.append(loss.item())  # Use .item() to get a scalar value\n",
    "\n",
    "    # What was our train accuracy?\n",
    "train_accuracy.append((100 * train_correct / train_total))\n",
    "    \n",
    "    # How did we do on the test set (the unseen set)\n",
    "    # Record the correct predictions for test data\n",
    "test_items = torch.FloatTensor(test_ds.data.values[:, 0:4])\n",
    "test_classes = torch.LongTensor(test_ds.data.values[:, 4])\n",
    "\n",
    "outputs = net(test_items)\n",
    "loss = criterion(outputs, test_classes)\n",
    "test_loss.append(loss.item())  # Use .item() to get a scalar value\n",
    "_, predicted = torch.max(outputs, 1)\n",
    "total = test_classes.size(0)\n",
    "correct = (predicted == test_classes).sum().item()  # Use .item() to get a scalar value\n",
    "test_accuracy.append((100 * correct / total))\n"
   ]
  },
  {
   "cell_type": "code",
   "execution_count": 29,
   "id": "71cd86d8",
   "metadata": {},
   "outputs": [
    {
     "data": {
      "image/png": "[encoded data removed]",
      "text/plain": [
       "<Figure size 1200x800 with 1 Axes>"
      ]
     },
     "metadata": {},
     "output_type": "display_data"
    }
   ],
   "source": [
    "fig = plt.figure(figsize=(12, 8))\n",
    "plt.plot(train_loss, label='train loss')\n",
    "plt.plot(test_loss, label='test loss')\n",
    "plt.title(\"Train and Test Loss\")\n",
    "plt.legend()\n",
    "plt.show()"
   ]
  },
  {
   "cell_type": "code",
   "execution_count": null,
   "id": "6df42db6",
   "metadata": {},
   "outputs": [],
   "source": []
  }
 ],
 "metadata": {
  "kernelspec": {
   "display_name": "Python 3 (ipykernel)",
   "language": "python",
   "name": "python3"
  },
  "language_info": {
   "codemirror_mode": {
    "name": "ipython",
    "version": 3
   },
   "file_extension": ".py",
   "mimetype": "text/x-python",
   "name": "python",
   "nbconvert_exporter": "python",
   "pygments_lexer": "ipython3",
   "version": "3.10.9"
  }
 },
 "nbformat": 4,
 "nbformat_minor": 5
}
