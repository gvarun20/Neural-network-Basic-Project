{
 "cells": [
  {
   "cell_type": "code",
   "execution_count": 1,
   "id": "02e8339a",
   "metadata": {},
   "outputs": [],
   "source": [
    "import numpy as np"
   ]
  },
  {
   "cell_type": "code",
   "execution_count": 15,
   "id": "a8165d4e",
   "metadata": {},
   "outputs": [],
   "source": [
    "timesteps=100\n",
    "input_features=32\n",
    "output_features=64\n",
    "\n",
    "inputs = np.random.random((timesteps,input_features))\n",
    "state_t= np.zeros((output_features,))\n",
    "\n",
    "W=np.random.random((output_features,input_features))\n",
    "U=np.random.random((output_features,output_features))\n",
    "b=np.random.random((output_features,))\n",
    "\n",
    "succesive_outputs=[]\n",
    "for input_t in inputs:\n",
    "    output_t=np.tanh(np.dot(W,input_t)+np.dot(U,state_t)+b)\n",
    "    succesive_outputs.append(output_t)\n",
    "    state_t=output_t\n",
    "    \n",
    "    \n",
    "final_output_sequence=np.concatenate(succesive_outputs,axis=0)\n",
    "    "
   ]
  },
  {
   "cell_type": "code",
   "execution_count": 16,
   "id": "b7b96af2",
   "metadata": {},
   "outputs": [
    {
     "name": "stdout",
     "output_type": "stream",
     "text": [
      "[0.99999999 1.         1.         ... 1.         1.         1.        ]\n"
     ]
    }
   ],
   "source": [
    "print(final_output_sequence)"
   ]
  },
  {
   "cell_type": "code",
   "execution_count": 4,
   "id": "4d0aa506",
   "metadata": {},
   "outputs": [
    {
     "name": "stdout",
     "output_type": "stream",
     "text": [
      "Model: \"sequential_3\"\n",
      "_________________________________________________________________\n",
      " Layer (type)                Output Shape              Param #   \n",
      "=================================================================\n",
      " embedding_3 (Embedding)     (None, None, 32)          32000     \n",
      "                                                                 \n",
      " simple_rnn_3 (SimpleRNN)    (None, None, 32)          2080      \n",
      "                                                                 \n",
      "=================================================================\n",
      "Total params: 34,080\n",
      "Trainable params: 34,080\n",
      "Non-trainable params: 0\n",
      "_________________________________________________________________\n"
     ]
    }
   ],
   "source": [
    "from keras.models import Sequential\n",
    "from keras.layers import Embedding, SimpleRNN\n",
    "\n",
    "model=Sequential()\n",
    "model.add(Embedding(1000,32))\n",
    "model.add(SimpleRNN(32,return_sequences=True))\n",
    "model.summary()\n"
   ]
  },
  {
   "cell_type": "code",
   "execution_count": 11,
   "id": "eb2c2190",
   "metadata": {},
   "outputs": [
    {
     "name": "stdout",
     "output_type": "stream",
     "text": [
      "Found 400000 word vectors.\n"
     ]
    }
   ],
   "source": []
  },
  {
   "cell_type": "code",
   "execution_count": 17,
   "id": "2d278496",
   "metadata": {},
   "outputs": [
    {
     "ename": "NameError",
     "evalue": "name 'max_words' is not defined",
     "output_type": "error",
     "traceback": [
      "\u001b[0;31m---------------------------------------------------------------------------\u001b[0m",
      "\u001b[0;31mNameError\u001b[0m                                 Traceback (most recent call last)",
      "Cell \u001b[0;32mIn [17], line 2\u001b[0m\n\u001b[1;32m      1\u001b[0m \u001b[38;5;28;01mfor\u001b[39;00m word, i \u001b[38;5;129;01min\u001b[39;00m embedding_index\u001b[38;5;241m.\u001b[39mitems():\n\u001b[0;32m----> 2\u001b[0m     \u001b[38;5;28;01mif\u001b[39;00m i \u001b[38;5;241m<\u001b[39m \u001b[43mmax_words\u001b[49m:\n\u001b[1;32m      3\u001b[0m         embedding_vector \u001b[38;5;241m=\u001b[39m embedding_index\u001b[38;5;241m.\u001b[39mget(word)\n\u001b[1;32m      4\u001b[0m         \u001b[38;5;28;01mif\u001b[39;00m embedding_vector \u001b[38;5;129;01mis\u001b[39;00m \u001b[38;5;129;01mnot\u001b[39;00m \u001b[38;5;28;01mNone\u001b[39;00m:\n",
      "\u001b[0;31mNameError\u001b[0m: name 'max_words' is not defined"
     ]
    }
   ],
   "source": [
    "\n"
   ]
  },
  {
   "cell_type": "code",
   "execution_count": 13,
   "id": "966ba057",
   "metadata": {},
   "outputs": [
    {
     "data": {
      "text/plain": [
       "'sandberger'"
      ]
     },
     "execution_count": 13,
     "metadata": {},
     "output_type": "execute_result"
    }
   ],
   "source": [
    "word"
   ]
  },
  {
   "cell_type": "code",
   "execution_count": null,
   "id": "7d3345bc",
   "metadata": {},
   "outputs": [],
   "source": []
  }
 ],
 "metadata": {
  "kernelspec": {
   "display_name": "Python 3 (ipykernel)",
   "language": "python",
   "name": "python3"
  },
  "language_info": {
   "codemirror_mode": {
    "name": "ipython",
    "version": 3
   },
   "file_extension": ".py",
   "mimetype": "text/x-python",
   "name": "python",
   "nbconvert_exporter": "python",
   "pygments_lexer": "ipython3",
   "version": "3.9.12"
  }
 },
 "nbformat": 4,
 "nbformat_minor": 5
}
