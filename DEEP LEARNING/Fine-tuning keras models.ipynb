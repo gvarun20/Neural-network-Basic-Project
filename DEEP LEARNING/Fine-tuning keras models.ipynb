{
 "cells": [
  {
   "cell_type": "markdown",
   "metadata": {},
   "source": [
    "We'll now try optimizing a model at a very low learning rate, a very high learning rate, and a \"just right\" learning rate.We'll want to look at the results remembering that a low value for the loss function is good.\n"
   ]
  },
  {
   "cell_type": "code",
   "execution_count": 4,
   "metadata": {},
   "outputs": [
    {
     "name": "stderr",
     "output_type": "stream",
     "text": [
      "Using TensorFlow backend.\n"
     ]
    }
   ],
   "source": [
    "import pandas as pd\n",
    "import keras\n",
    "from keras.utils import to_categorical\n",
    "from keras.layers import Dense\n",
    "from keras.models import Sequential\n",
    "from keras.optimizers import SGD\n",
    "data=pd.read_csv('titanic_all_numeric.csv')\n",
    "predictors=data.drop(['survived'],axis=1).as_matrix()\n",
    "n_cols = predictors.shape[1]\n",
    "target =to_categorical(data.survived)"
   ]
  },
  {
   "cell_type": "code",
   "execution_count": 5,
   "metadata": {
    "collapsed": true
   },
   "outputs": [],
   "source": [
    "def get_new_model():\n",
    "    model = Sequential()\n",
    "    # Add the first layer\n",
    "    model.add(Dense(32,activation='relu',input_shape=(n_cols,)))\n",
    "    # Add the output layer\n",
    "    model.add(Dense(2,activation='softmax'))\n",
    "    return model"
   ]
  },
  {
   "cell_type": "code",
   "execution_count": 6,
   "metadata": {},
   "outputs": [
    {
     "name": "stdout",
     "output_type": "stream",
     "text": [
      "\n",
      "\n",
      "Testing model with learning rate: 0.000001\n",
      "\n",
      "Epoch 1/1\n",
      "891/891 [==============================] - 3s 4ms/step - loss: 3.9261 - acc: 0.6162\n",
      "\n",
      "\n",
      "Testing model with learning rate: 0.010000\n",
      "\n",
      "Epoch 1/1\n",
      "891/891 [==============================] - 1s 1ms/step - loss: 2.7504 - acc: 0.5892\n",
      "\n",
      "\n",
      "Testing model with learning rate: 1.000000\n",
      "\n",
      "Epoch 1/1\n",
      "891/891 [==============================] - 1s 1ms/step - loss: 9.6159 - acc: 0.3895\n"
     ]
    }
   ],
   "source": [
    "# Import the SGD optimizer\n",
    "\n",
    "\n",
    "# Create list of learning rates: lr_to_test\n",
    "lr_to_test =list([0.000001,0.01,1])\n",
    "\n",
    "# Loop over learning rates\n",
    "for lr in lr_to_test:\n",
    "    print('\\n\\nTesting model with learning rate: %f\\n'%lr )\n",
    "    \n",
    "    # Build new model to test, unaffected by previous models\n",
    "    model =get_new_model()\n",
    "    \n",
    "    # Create SGD optimizer with specified learning rate: my_optimizer\n",
    "    my_optimizer =SGD(lr=lr)\n",
    "    \n",
    "    # Compile the model\n",
    "    model.compile(optimizer=my_optimizer,loss='categorical_crossentropy',metrics=['accuracy'])\n",
    "    \n",
    "    # Fit the model\n",
    "    model.fit(predictors,target)\n",
    "    "
   ]
  },
  {
   "cell_type": "markdown",
   "metadata": {},
   "source": [
    "## Evaluating model accuracy on validation dataset"
   ]
  },
  {
   "cell_type": "code",
   "execution_count": 7,
   "metadata": {},
   "outputs": [
    {
     "name": "stdout",
     "output_type": "stream",
     "text": [
      "Train on 623 samples, validate on 268 samples\n",
      "Epoch 1/1\n",
      "623/623 [==============================] - 2s 3ms/step - loss: 1.1762 - acc: 0.5907 - val_loss: 0.5920 - val_acc: 0.7015\n"
     ]
    }
   ],
   "source": [
    "# Save the number of columns in predictors: n_cols\n",
    "n_cols = predictors.shape[1]\n",
    "input_shape = (n_cols,)\n",
    "\n",
    "# Specify the model\n",
    "model = Sequential()\n",
    "model.add(Dense(100, activation='relu', input_shape = input_shape))\n",
    "model.add(Dense(100, activation='relu'))\n",
    "model.add(Dense(2, activation='softmax'))\n",
    "\n",
    "# Compile the model\n",
    "model.compile(optimizer='adam',loss='categorical_crossentropy',metrics=['accuracy'])\n",
    "\n",
    "# Fit the model\n",
    "hist =model.fit(predictors,target,validation_split=0.3)\n"
   ]
  },
  {
   "cell_type": "markdown",
   "metadata": {},
   "source": [
    "# Early stopping: Optimizing the optimization"
   ]
  },
  {
   "cell_type": "markdown",
   "metadata": {},
   "source": [
    "Now that we know how to monitor your model performance throughout optimization, we can use early stopping to stop optimization when it isn't helping any more. Since the optimization stops automatically when it isn't helping, we can also set a high value for epochs in your call to .fit()"
   ]
  },
  {
   "cell_type": "code",
   "execution_count": 10,
   "metadata": {},
   "outputs": [
    {
     "name": "stdout",
     "output_type": "stream",
     "text": [
      "Train on 623 samples, validate on 268 samples\n",
      "Epoch 1/30\n",
      "623/623 [==============================] - 3s 5ms/step - loss: 1.1678 - acc: 0.5618 - val_loss: 0.6299 - val_acc: 0.6679\n",
      "Epoch 2/30\n",
      "623/623 [==============================] - 0s 322us/step - loss: 0.7533 - acc: 0.5762 - val_loss: 0.5862 - val_acc: 0.6940\n",
      "Epoch 3/30\n",
      "623/623 [==============================] - 0s 322us/step - loss: 0.6593 - acc: 0.6661 - val_loss: 0.5825 - val_acc: 0.7090\n",
      "Epoch 4/30\n",
      "623/623 [==============================] - 0s 366us/step - loss: 0.6104 - acc: 0.6726 - val_loss: 0.5546 - val_acc: 0.7127\n",
      "Epoch 5/30\n",
      "623/623 [==============================] - 0s 424us/step - loss: 0.6685 - acc: 0.6677 - val_loss: 0.7912 - val_acc: 0.6455\n",
      "Epoch 6/30\n",
      "623/623 [==============================] - 0s 347us/step - loss: 0.6978 - acc: 0.6597 - val_loss: 0.5392 - val_acc: 0.7612\n",
      "Epoch 7/30\n",
      "623/623 [==============================] - 0s 322us/step - loss: 0.5752 - acc: 0.7095 - val_loss: 0.6794 - val_acc: 0.7052\n",
      "Epoch 8/30\n",
      "623/623 [==============================] - 0s 272us/step - loss: 0.5850 - acc: 0.7047 - val_loss: 0.5777 - val_acc: 0.7239\n"
     ]
    },
    {
     "data": {
      "text/plain": [
       "<keras.callbacks.History at 0x25bea99ef98>"
      ]
     },
     "execution_count": 10,
     "metadata": {},
     "output_type": "execute_result"
    }
   ],
   "source": [
    "# Import EarlyStopping\n",
    "from keras.callbacks import EarlyStopping\n",
    "\n",
    "# Save the number of columns in predictors: n_cols\n",
    "n_cols = predictors.shape[1]\n",
    "input_shape = (n_cols,)\n",
    "\n",
    "# Specify the model\n",
    "model = Sequential()\n",
    "model.add(Dense(100, activation='relu', input_shape = input_shape))\n",
    "model.add(Dense(100, activation='relu'))\n",
    "model.add(Dense(2, activation='softmax'))\n",
    "\n",
    "# Compile the model\n",
    "model.compile(optimizer='adam',loss='categorical_crossentropy',metrics=['accuracy'])\n",
    "\n",
    "# Define early_stopping_monitor\n",
    "early_stopping_monitor = EarlyStopping(patience=2)#Stop optimization \n",
    "                                                    #when the validation loss hasn't improved for 2 epochs \n",
    "                                                    #by specifying the patience parameter of EarlyStopping() to be 2\n",
    "\n",
    "# Fit the model\n",
    "model.fit(predictors,target,epochs=30,validation_split=0.3,callbacks=[early_stopping_monitor])\n"
   ]
  },
  {
   "cell_type": "markdown",
   "metadata": {},
   "source": [
    "Because optimization will automatically stop when it is no longer helpful, it is okay to specify the maximum number of epochs as 30 rather than using the default of 10 that we've used so far. Here, it seems like the optimization stopped after 7 epochs."
   ]
  },
  {
   "cell_type": "markdown",
   "metadata": {},
   "source": [
    "## Experimenting with wider networks"
   ]
  },
  {
   "cell_type": "markdown",
   "metadata": {},
   "source": [
    "Now,\n",
    "\n",
    "A model called model_1 is defined which is a relatively small network, with only 10 units in each hidden layer.\n",
    "\n",
    "We'll create a new model called model_2 which is similar to model_1, except it has 100 units in each hidden layer.\n",
    "\n",
    "After we create model_2, both models will be fitted, and a graph showing both models loss score at each epoch will be shown. We added the argument (verbose=False) in the fitting commands to print out fewer updates, since we will look at these graphically instead of as text."
   ]
  },
  {
   "cell_type": "code",
   "execution_count": 18,
   "metadata": {},
   "outputs": [
    {
     "name": "stdout",
     "output_type": "stream",
     "text": [
      "_________________________________________________________________\n",
      "Layer (type)                 Output Shape              Param #   \n",
      "=================================================================\n",
      "dense_40 (Dense)             (None, 10)                110       \n",
      "_________________________________________________________________\n",
      "dense_41 (Dense)             (None, 10)                110       \n",
      "_________________________________________________________________\n",
      "dense_42 (Dense)             (None, 2)                 22        \n",
      "=================================================================\n",
      "Total params: 242\n",
      "Trainable params: 242\n",
      "Non-trainable params: 0\n",
      "_________________________________________________________________\n",
      "None\n"
     ]
    }
   ],
   "source": [
    "# Create the new model: model_1\n",
    "model_1 = Sequential()\n",
    "\n",
    "# Add the first and second layers\n",
    "model_1.add(Dense(10, activation='relu', input_shape=input_shape))\n",
    "model_1.add(Dense(10, activation='relu'))\n",
    "\n",
    "# Add the output layer\n",
    "model_1.add(Dense(2, activation='softmax'))\n",
    "\n",
    "# Compile model_2\n",
    "model_1.compile(optimizer='adam', loss='categorical_crossentropy', metrics=['accuracy'])\n",
    "print(model_1.summary())"
   ]
  },
  {
   "cell_type": "code",
   "execution_count": 16,
   "metadata": {},
   "outputs": [
    {
     "data": {
      "image/png": "[encoded data removed]",
      "text/plain": [
       "<matplotlib.figure.Figure at 0x25bf08f8e10>"
      ]
     },
     "metadata": {},
     "output_type": "display_data"
    }
   ],
   "source": [
    "import matplotlib.pyplot as plt\n",
    "# Define early_stopping_monitor\n",
    "early_stopping_monitor = EarlyStopping(patience=2)\n",
    "\n",
    "# Create the new model: model_2\n",
    "model_2 = Sequential()\n",
    "\n",
    "# Add the first and second layers\n",
    "model_2.add(Dense(100, activation='relu', input_shape=input_shape))\n",
    "model_2.add(Dense(100, activation='relu'))\n",
    "\n",
    "# Add the output layer\n",
    "model_2.add(Dense(2, activation='softmax'))\n",
    "\n",
    "# Compile model_2\n",
    "model_2.compile(optimizer='adam', loss='categorical_crossentropy', metrics=['accuracy'])\n",
    "\n",
    "# Fit model_1\n",
    "model_1_training = model_1.fit(predictors, target, epochs=15, validation_split=0.2, callbacks=[early_stopping_monitor], verbose=False)\n",
    "\n",
    "# Fit model_2\n",
    "model_2_training = model_2.fit(predictors, target, epochs=15, validation_split=0.2, callbacks=[early_stopping_monitor], verbose=False)\n",
    "\n",
    "# Create the plot\n",
    "plt.plot(model_1_training.history['val_loss'], 'r', model_2_training.history['val_loss'], 'b')\n",
    "plt.xlabel('Epochs')\n",
    "plt.ylabel('Validation score')\n",
    "plt.show()\n"
   ]
  },
  {
   "cell_type": "markdown",
   "metadata": {},
   "source": [
    "## Adding Layers to network"
   ]
  },
  {
   "cell_type": "code",
   "execution_count": 19,
   "metadata": {
    "collapsed": true
   },
   "outputs": [],
   "source": [
    "# Create the new model: model_1\n",
    "model_1 = Sequential()\n",
    "\n",
    "# Add the first and second layers\n",
    "model_1.add(Dense(50, activation='relu', input_shape=input_shape))\n",
    "# Add the output layer\n",
    "model_1.add(Dense(2, activation='softmax'))\n",
    "\n",
    "# Compile model_2\n",
    "model_1.compile(optimizer='adam', loss='categorical_crossentropy', metrics=['accuracy'])"
   ]
  },
  {
   "cell_type": "code",
   "execution_count": 20,
   "metadata": {},
   "outputs": [
    {
     "data": {
      "image/png": "[encoded data removed]",
      "text/plain": [
       "<matplotlib.figure.Figure at 0x25bf247ea20>"
      ]
     },
     "metadata": {},
     "output_type": "display_data"
    }
   ],
   "source": [
    "# The input shape to use in the first hidden layer\n",
    "input_shape = (n_cols,)\n",
    "\n",
    "# Create the new model: model_2\n",
    "model_2 =Sequential()\n",
    "\n",
    "# Add the first, second, and third hidden layers\n",
    "model_2.add(Dense(50, activation='relu', input_shape=input_shape))\n",
    "model_2.add(Dense(50, activation='relu'))\n",
    "model_2.add(Dense(50, activation='relu'))\n",
    "\n",
    "# Add the output layer\n",
    "model_2.add(Dense(2, activation='softmax'))\n",
    "\n",
    "# Compile model_2\n",
    "model_2.compile(optimizer='adam', loss='categorical_crossentropy', metrics=['accuracy'])\n",
    "\n",
    "# Fit model 1\n",
    "model_1_training = model_1.fit(predictors, target, epochs=20, validation_split=0.4, callbacks=[early_stopping_monitor], verbose=False)\n",
    "\n",
    "# Fit model 2\n",
    "model_2_training = model_2.fit(predictors, target, epochs=20, validation_split=0.4, callbacks=[early_stopping_monitor], verbose=False)\n",
    "\n",
    "# Create the plot\n",
    "plt.plot(model_1_training.history['val_loss'], 'r', model_2_training.history['val_loss'], 'b')\n",
    "plt.xlabel('Epochs')\n",
    "plt.ylabel('Validation score')\n",
    "plt.show()\n"
   ]
  },
  {
   "cell_type": "markdown",
   "metadata": {},
   "source": [
    "# Digit recognition model"
   ]
  },
  {
   "cell_type": "markdown",
   "metadata": {},
   "source": [
    "We will Now use the MNIST Data to work on digit recognition model"
   ]
  },
  {
   "cell_type": "code",
   "execution_count": 22,
   "metadata": {},
   "outputs": [
    {
     "name": "stdout",
     "output_type": "stream",
     "text": [
      "      5  0  0.1  0.2  0.3  0.4  0.5  0.6  0.7  0.8  ...    0.608  0.609  \\\n",
      "0     4  0    0    0    0    0    0    0    0    0  ...        0      0   \n",
      "1     3  0    0    0    0    0    0    0    0    0  ...        0      0   \n",
      "2     0  0    0    0    0    0    0    0    0    0  ...        0      0   \n",
      "3     2  0    0    0    0    0    0    0    0    0  ...        0      0   \n",
      "4     8  0    0    0    0    0    0    0    0    0  ...        0      0   \n",
      "5     8  0    0    0    0    0    0    0    0    0  ...        0      0   \n",
      "6     1  0    0    0    0    0    0    0    0    0  ...        0      0   \n",
      "7     2  0    0    0    0    0    0    0    0    0  ...        0      0   \n",
      "8     6  0    0    0    0    0    0    0    0    0  ...        0      0   \n",
      "9     9  0    0    0    0    0    0    0    0    0  ...        0      0   \n",
      "10    8  0    0    0    0    0    0    0    0    0  ...        0      0   \n",
      "11    1  0    0    0    0    0    0    0    0    0  ...        0      0   \n",
      "12    7  0    0    0    0    0    0    0    0    0  ...        0      0   \n",
      "13    9  0    0    0    0    0    0    0    0    0  ...        0      0   \n",
      "14    8  0    0    0    0    0    0    0    0    0  ...        0      0   \n",
      "15    8  0    0    0    0    0    0    0    0    0  ...        0      0   \n",
      "16    2  0    0    0    0    0    0    0    0    0  ...        0      0   \n",
      "17    1  0    0    0    0    0    0    0    0    0  ...        0      0   \n",
      "18    6  0    0    0    0    0    0    0    0    0  ...        0      0   \n",
      "19    5  0    0    0    0    0    0    0    0    0  ...        0      0   \n",
      "20    0  0    0    0    0    0    0    0    0    0  ...        0      0   \n",
      "21    4  0    0    0    0    0    0    0    0    0  ...        0      0   \n",
      "22    5  0    0    0    0    0    0    0    0    0  ...        0      0   \n",
      "23    3  0    0    0    0    0    0    0    0    0  ...        0      0   \n",
      "24    8  0    0    0    0    0    0    0    0    0  ...        0      0   \n",
      "25    2  0    0    0    0    0    0    0    0    0  ...        0      0   \n",
      "26    1  0    0    0    0    0    0    0    0    0  ...        0      0   \n",
      "27    1  0    0    0    0    0    0    0    0    0  ...        0      0   \n",
      "28    0  0    0    0    0    0    0    0    0    0  ...        0      0   \n",
      "29    5  0    0    0    0    0    0    0    0    0  ...        0      0   \n",
      "...  .. ..  ...  ...  ...  ...  ...  ...  ...  ...  ...      ...    ...   \n",
      "1970  4  0    0    0    0    0    0    0    0    0  ...        0      0   \n",
      "1971  4  0    0    0    0    0    0    0    0    0  ...        0      0   \n",
      "1972  1  0    0    0    0    0    0    0    0    0  ...        0      0   \n",
      "1973  3  0    0    0    0    0    0    0    0    0  ...        0      0   \n",
      "1974  7  0    0    0    0    0    0    0    0    0  ...        0      0   \n",
      "1975  9  0    0    0    0    0    0    0    0    0  ...        0      0   \n",
      "1976  7  0    0    0    0    0    0    0    0    0  ...        0      0   \n",
      "1977  5  0    0    0    0    0    0    0    0    0  ...        0      0   \n",
      "1978  4  0    0    0    0    0    0    0    0    0  ...        0      0   \n",
      "1979  7  0    0    0    0    0    0    0    0    0  ...        0      0   \n",
      "1980  8  0    0    0    0    0    0    0    0    0  ...        0      0   \n",
      "1981  1  0    0    0    0    0    0    0    0    0  ...        0      0   \n",
      "1982  8  0    0    0    0    0    0    0    0    0  ...        0      0   \n",
      "1983  0  0    0    0    0    0    0    0    0    0  ...        0      0   \n",
      "1984  0  0    0    0    0    0    0    0    0    0  ...        0      0   \n",
      "1985  7  0    0    0    0    0    0    0    0    0  ...        0      0   \n",
      "1986  9  0    0    0    0    0    0    0    0    0  ...        0      0   \n",
      "1987  1  0    0    0    0    0    0    0    0    0  ...        0      0   \n",
      "1988  1  0    0    0    0    0    0    0    0    0  ...        0      0   \n",
      "1989  9  0    0    0    0    0    0    0    0    0  ...        0      0   \n",
      "1990  4  0    0    0    0    0    0    0    0    0  ...        0      0   \n",
      "1991  9  0    0    0    0    0    0    0    0    0  ...        0      0   \n",
      "1992  0  0    0    0    0    0    0    0    0    0  ...        0      0   \n",
      "1993  0  0    0    0    0    0    0    0    0    0  ...        0      0   \n",
      "1994  9  0    0    0    0    0    0    0    0    0  ...        0      0   \n",
      "1995  2  0    0    0    0    0    0    0    0    0  ...        0      0   \n",
      "1996  2  0    0    0    0    0    0    0    0    0  ...        0      0   \n",
      "1997  8  0    0    0    0    0    0    0    0    0  ...        0      0   \n",
      "1998  9  0    0    0    0    0    0    0    0    0  ...        0      0   \n",
      "1999  9  0    0    0    0    0    0    0    0    0  ...        0      0   \n",
      "\n",
      "      0.610  0.611  0.612  0.613  0.614  0.615  0.616  0.617  \n",
      "0         0      0      0      0      0      0      0      0  \n",
      "1         0      0      0      0      0      0      0      0  \n",
      "2         0      0      0      0      0      0      0      0  \n",
      "3         0      0      0      0      0      0      0      0  \n",
      "4         0      0      0      0      0      0      0      0  \n",
      "5         0      0      0      0      0      0      0      0  \n",
      "6         0      0      0      0      0      0      0      0  \n",
      "7         0      0      0      0      0      0      0      0  \n",
      "8         0      0      0      0      0      0      0      0  \n",
      "9         0      0      0      0      0      0      0      0  \n",
      "10        0      0      0      0      0      0      0      0  \n",
      "11        0      0      0      0      0      0      0      0  \n",
      "12        0      0      0      0      0      0      0      0  \n",
      "13        0      0      0      0      0      0      0      0  \n",
      "14        0      0      0      0      0      0      0      0  \n",
      "15        0      0      0      0      0      0      0      0  \n",
      "16        0      0      0      0      0      0      0      0  \n",
      "17        0      0      0      0      0      0      0      0  \n",
      "18        0      0      0      0      0      0      0      0  \n",
      "19        0      0      0      0      0      0      0      0  \n",
      "20        0      0      0      0      0      0      0      0  \n",
      "21        0      0      0      0      0      0      0      0  \n",
      "22        0      0      0      0      0      0      0      0  \n",
      "23        0      0      0      0      0      0      0      0  \n",
      "24        0      0      0      0      0      0      0      0  \n",
      "25        0      0      0      0      0      0      0      0  \n",
      "26        0      0      0      0      0      0      0      0  \n",
      "27        0      0      0      0      0      0      0      0  \n",
      "28        0      0      0      0      0      0      0      0  \n",
      "29        0      0      0      0      0      0      0      0  \n",
      "...     ...    ...    ...    ...    ...    ...    ...    ...  \n",
      "1970      0      0      0      0      0      0      0      0  \n",
      "1971      0      0      0      0      0      0      0      0  \n",
      "1972      0      0      0      0      0      0      0      0  \n",
      "1973      0      0      0      0      0      0      0      0  \n",
      "1974      0      0      0      0      0      0      0      0  \n",
      "1975      0      0      0      0      0      0      0      0  \n",
      "1976      0      0      0      0      0      0      0      0  \n",
      "1977      0      0      0      0      0      0      0      0  \n",
      "1978      0      0      0      0      0      0      0      0  \n",
      "1979      0      0      0      0      0      0      0      0  \n",
      "1980      0      0      0      0      0      0      0      0  \n",
      "1981      0      0      0      0      0      0      0      0  \n",
      "1982      0      0      0      0      0      0      0      0  \n",
      "1983      0      0      0      0      0      0      0      0  \n",
      "1984      0      0      0      0      0      0      0      0  \n",
      "1985      0      0      0      0      0      0      0      0  \n",
      "1986      0      0      0      0      0      0      0      0  \n",
      "1987      0      0      0      0      0      0      0      0  \n",
      "1988      0      0      0      0      0      0      0      0  \n",
      "1989      0      0      0      0      0      0      0      0  \n",
      "1990      0      0      0      0      0      0      0      0  \n",
      "1991      0      0      0      0      0      0      0      0  \n",
      "1992      0      0      0      0      0      0      0      0  \n",
      "1993      0      0      0      0      0      0      0      0  \n",
      "1994      0      0      0      0      0      0      0      0  \n",
      "1995      0      0      0      0      0      0      0      0  \n",
      "1996      0      0      0      0      0      0      0      0  \n",
      "1997      0      0      0      0      0      0      0      0  \n",
      "1998      0      0      0      0      0      0      0      0  \n",
      "1999      0      0      0      0      0      0      0      0  \n",
      "\n",
      "[2000 rows x 785 columns]\n"
     ]
    }
   ],
   "source": [
    "data=pd.read_csv('mnist.csv')\n",
    "print(data)"
   ]
  },
  {
   "cell_type": "code",
   "execution_count": 29,
   "metadata": {},
   "outputs": [
    {
     "name": "stdout",
     "output_type": "stream",
     "text": [
      "(2000, 784)\n",
      "[[ 0.  0.  0. ...,  0.  0.  0.]\n",
      " [ 0.  0.  0. ...,  0.  0.  0.]\n",
      " [ 1.  0.  0. ...,  0.  0.  0.]\n",
      " ..., \n",
      " [ 0.  0.  0. ...,  0.  1.  0.]\n",
      " [ 0.  0.  0. ...,  0.  0.  1.]\n",
      " [ 0.  0.  0. ...,  0.  0.  1.]]\n"
     ]
    }
   ],
   "source": [
    "predictor=data.drop(['5'],axis=1).as_matrix()\n",
    "n_cols = predictor.shape[1]\n",
    "print(predictor.shape)\n",
    "target =to_categorical(data['5'])\n",
    "print(target)"
   ]
  },
  {
   "cell_type": "code",
   "execution_count": 30,
   "metadata": {},
   "outputs": [
    {
     "name": "stdout",
     "output_type": "stream",
     "text": [
      "Train on 1400 samples, validate on 600 samples\n",
      "Epoch 1/1\n",
      "1400/1400 [==============================] - 4s 3ms/step - loss: 10.9928 - acc: 0.2943 - val_loss: 10.9036 - val_acc: 0.3100\n"
     ]
    },
    {
     "data": {
      "text/plain": [
       "<keras.callbacks.History at 0x25bf2618f28>"
      ]
     },
     "execution_count": 30,
     "metadata": {},
     "output_type": "execute_result"
    }
   ],
   "source": [
    "# Create the model: model\n",
    "model = Sequential()\n",
    "\n",
    "# Add the first hidden layer\n",
    "model.add(Dense(50, activation='relu', input_shape = (784,)))\n",
    "\n",
    "\n",
    "# Add the second hidden layer\n",
    "model.add(Dense(50, activation='relu'))\n",
    "\n",
    "\n",
    "# Add the output layer\n",
    "model.add(Dense(10, activation='softmax'))\n",
    "\n",
    "# Compile the model\n",
    "model.compile(optimizer='adam',loss='categorical_crossentropy',metrics=['accuracy'])\n",
    "\n",
    "# Fit the model\n",
    "model.fit(predictor,target,validation_split=0.3)\n"
   ]
  },
  {
   "cell_type": "code",
   "execution_count": null,
   "metadata": {
    "collapsed": true
   },
   "outputs": [],
   "source": []
  }
 ],
 "metadata": {
  "kernelspec": {
   "display_name": "Python 3",
   "language": "python",
   "name": "python3"
  },
  "language_info": {
   "codemirror_mode": {
    "name": "ipython",
    "version": 3
   },
   "file_extension": ".py",
   "mimetype": "text/x-python",
   "name": "python",
   "nbconvert_exporter": "python",
   "pygments_lexer": "ipython3",
   "version": "3.6.1"
  }
 },
 "nbformat": 4,
 "nbformat_minor": 2
}
