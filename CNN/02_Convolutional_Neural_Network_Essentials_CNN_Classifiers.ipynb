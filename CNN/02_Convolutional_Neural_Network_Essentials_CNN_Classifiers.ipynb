{
 "cells": [
  {
   "cell_type": "markdown",
   "metadata": {
    "colab_type": "text",
    "id": "fVp8ZuJSRKmv"
   },
   "source": [
    "# Convolutional Neural Networks - Building CNN Classifiers\n",
    "\n",
    "\n",
    "The most popular deep learning models leveraged for computer vision problems are convolutional neural networks (CNNs)!\n",
    "\n",
    "![](https://miro.medium.com/max/2000/1*rO65zGl2k7xVBRhJZggQSA.gif)\n",
    "\n",
    "We will look at how we can build, train and evaluate a multi-class CNN classifier in this notebook.\n",
    "\n",
    "<div style=\"text-align: right\"><i><font size=\"2\">Tutorial by: <a href=\"https://www.linkedin.com/in/dipanzan\" target=\"_parent\">Dipanjan (DJ) Sarkar</a></font></i></div>\n"
   ]
  },
  {
   "cell_type": "markdown",
   "metadata": {
    "colab_type": "text",
    "id": "1uJjRfcuX1U1"
   },
   "source": [
    "# Load Dependencies \n",
    "\n",
    "This leverages the __`tf.keras`__ API style and hence it is recommended you try this out on TensorFlow 2.x"
   ]
  },
  {
   "cell_type": "code",
   "execution_count": 1,
   "metadata": {
    "colab": {
     "base_uri": "https://localhost:8080/",
     "height": 33
    },
    "colab_type": "code",
    "id": "UaPTicsNO_Lf",
    "outputId": "5dca19ac-bec2-49da-ed5a-c36432efae41"
   },
   "outputs": [
    {
     "name": "stdout",
     "output_type": "stream",
     "text": [
      "2.3.0\n"
     ]
    }
   ],
   "source": [
    "# to prevent unnecessary warnings\n",
    "import warnings\n",
    "warnings.simplefilter(action='ignore', category=FutureWarning)\n",
    "\n",
    "# TensorFlow and tf.keras\n",
    "import tensorflow as tf\n",
    "\n",
    "# Helper libraries\n",
    "import numpy as np\n",
    "import matplotlib.pyplot as plt\n",
    "import os\n",
    "import subprocess\n",
    "import cv2\n",
    "import json\n",
    "import requests\n",
    "from tqdm import tqdm\n",
    "\n",
    "print(tf.__version__)"
   ]
  },
  {
   "cell_type": "markdown",
   "metadata": {
    "colab_type": "text",
    "id": "xL6OWVLYPI2e"
   },
   "source": [
    "# Main Objective — Building & Deploying an Apparel Classifier\n",
    "\n",
    "We will keep things simple here with regard to the key objective. We will build a simple apparel classifier by training models on the very famous [Fashion MNIST](https://github.com/zalandoresearch/fashion-mnist) dataset based on Zalando’s article images — consisting of a training set of 60,000 examples and a test set of 10,000 examples. Each example is a 28x28 grayscale image, associated with a label from 10 classes. The idea is to classify these images into an apparel category amongst 10 categories on which we will be training our models on.\n",
    "\n",
    "Here's an example how the data looks (each class takes three-rows):\n",
    "\n",
    "<table>\n",
    "  <tr><td>\n",
    "    <img src=\"https://raw.githubusercontent.com/zalandoresearch/fashion-mnist/master/doc/img/fashion-mnist-sprite.png\"\n",
    "         alt=\"Fashion MNIST sprite\"  width=\"600\">\n",
    "  </td></tr>\n",
    "  <tr><td align=\"center\">\n",
    "    <a href=\"https://github.com/zalandoresearch/fashion-mnist\">Fashion-MNIST samples</a> (by Zalando, MIT License).<br/>&nbsp;\n",
    "  </td></tr>\n",
    "</table>\n",
    "\n",
    "Fashion MNIST is intended as a drop-in replacement for the classic [MNIST](http://yann.lecun.com/exdb/mnist/) dataset—often used as the \"Hello, World\" of machine learning programs for computer vision. You can access the Fashion MNIST directly from TensorFlow.\n",
    "\n",
    "__Note:__ Although these are really images, they are loaded as NumPy arrays and not binary image objects."
   ]
  },
  {
   "cell_type": "markdown",
   "metadata": {
    "colab_type": "text",
    "id": "2zFRln3aPYu-"
   },
   "source": [
    "We will build the following two deep learning CNN (Convolutional Neural Network) classifiers in this notebook.\n",
    "- A simple CNN trained from scratch\n",
    "- Fine-tuning a pre-trained VGG-19 CNN\n",
    "\n",
    "The idea is to look at how to build your own CNN from scratch and also to briefly look at transfer learning where you fine-tune a pre-trained model to adapt it to classify images based on your dataset."
   ]
  },
  {
   "cell_type": "markdown",
   "metadata": {
    "colab_type": "text",
    "id": "ScxyYAKsPs0f"
   },
   "source": [
    "# Load Dataset\n",
    "Here we will leverage an out of the box dataset to keep things simple as we mentioned earlier by leveraging the Fashion-MNIST dataset."
   ]
  },
  {
   "cell_type": "code",
   "execution_count": 2,
   "metadata": {
    "colab": {
     "base_uri": "https://localhost:8080/",
     "height": 67
    },
    "colab_type": "code",
    "id": "q4mT4EByP5hD",
    "outputId": "d2efb0e9-bc49-4c7f-99a4-7807e5e8f1d2"
   },
   "outputs": [
    {
     "name": "stdout",
     "output_type": "stream",
     "text": [
      "\n",
      "Train_images.shape: (60000, 28, 28), of uint8\n",
      "Test_images.shape: (10000, 28, 28), of uint8\n"
     ]
    }
   ],
   "source": [
    "fashion_mnist = tf.keras.datasets.fashion_mnist\n",
    "(train_images, train_labels), (test_images, test_labels) = fashion_mnist.load_data()\n",
    "\n",
    "class_names = ['T-shirt/top', 'Trouser', 'Pullover', 'Dress', 'Coat',\n",
    "               'Sandal', 'Shirt', 'Sneaker', 'Bag', 'Ankle boot']\n",
    "\n",
    "print('\\nTrain_images.shape: {}, of {}'.format(train_images.shape, train_images.dtype))\n",
    "print('Test_images.shape: {}, of {}'.format(test_images.shape, test_images.dtype))"
   ]
  },
  {
   "cell_type": "markdown",
   "metadata": {
    "colab_type": "text",
    "id": "EmorWzlAQAD_"
   },
   "source": [
    "# Brief on CNNs\n",
    "\n",
    "CNNs typically consist of multiple convolution and pooling layers which help the deep learning model in automatically extracting relevant features from visual data like images. Due to this multi-layered architecture, CNNs learn a robust hierarchy of features, which are spatial, rotation, and translation invariant.\n",
    "\n",
    "![](https://miro.medium.com/max/1456/1*NKL76WYQwH5LuqyaQTjBNw.png)\n",
    "\n",
    "The key operations in a CNN model are depicted in the figure above. Any image can be represented as a tensor of pixel values. The convolution layers help in extracting features from this image (forms feature maps). Shallower layers (closer to the input data) in the network learn very generic features like edges, corners and so on. Deeper layers in the network (closer to the output layer) learn very specific features pertaining to the input image. The following graphic helps summarize the key aspects of any CNN model.\n",
    "\n",
    "![](https://miro.medium.com/max/1366/1*nCQeDMjKoTGst1RiCDo9Fw.png)\n",
    "\n",
    "We will be building a CNN from scratch as well as leverage the power of transfer learning, where we use pre-trained deep learning CNNs in this tutorial. "
   ]
  },
  {
   "cell_type": "markdown",
   "metadata": {
    "colab_type": "text",
    "id": "6lo0d3HmSmgE"
   },
   "source": [
    "# 1. Training a simple CNN Classifier from Scratch\n",
    "\n",
    "In this section, we will train a basic 2-layer CNN model from scratch."
   ]
  },
  {
   "cell_type": "markdown",
   "metadata": {
    "colab_type": "text",
    "id": "gzH0Vk6hSvJt"
   },
   "source": [
    "## Reshaping Image Data for Modeling\n",
    "\n",
    "We do need to reshape our data before we train our model. Here we will work on grayscale, 1-channel images (image pixel tensors)"
   ]
  },
  {
   "cell_type": "code",
   "execution_count": 3,
   "metadata": {
    "colab": {
     "base_uri": "https://localhost:8080/",
     "height": 67
    },
    "colab_type": "code",
    "id": "RypFy7KkS5-0",
    "outputId": "5d79ab2e-00ab-4ea3-8bdb-6d1ed1693eea"
   },
   "outputs": [
    {
     "name": "stdout",
     "output_type": "stream",
     "text": [
      "\n",
      "Train_images.shape: (60000, 28, 28, 1), of uint8\n",
      "Test_images.shape: (10000, 28, 28, 1), of uint8\n"
     ]
    }
   ],
   "source": [
    "# reshape for feeding into the model\n",
    "train_images_gr = train_images.reshape(train_images.shape[0], 28, 28, 1)\n",
    "test_images_gr = test_images.reshape(test_images.shape[0], 28, 28, 1)\n",
    "\n",
    "print('\\nTrain_images.shape: {}, of {}'.format(train_images_gr.shape, train_images_gr.dtype))\n",
    "print('Test_images.shape: {}, of {}'.format(test_images_gr.shape, test_images_gr.dtype))"
   ]
  },
  {
   "cell_type": "code",
   "execution_count": 4,
   "metadata": {
    "colab": {
     "base_uri": "https://localhost:8080/",
     "height": 357
    },
    "colab_type": "code",
    "id": "P4qdHm7WTIPx",
    "outputId": "96512605-5cb5-41f4-fc75-24aeb1226d67"
   },
   "outputs": [
    {
     "data": {
      "image/png": "[encoded data removed]",
      "text/plain": [
       "<Figure size 864x432 with 10 Axes>"
      ]
     },
     "metadata": {
      "needs_background": "light",
      "tags": []
     },
     "output_type": "display_data"
    }
   ],
   "source": [
    "fig, ax = plt.subplots(2, 5, figsize=(12, 6))\n",
    "c = 0\n",
    "for i in range(10):\n",
    "    idx = i // 5\n",
    "    idy = i % 5 \n",
    "    ax[idx, idy].imshow(train_images_gr[i].reshape(28,28))\n",
    "    ax[idx, idy].set_title(class_names[train_labels[i]])"
   ]
  },
  {
   "cell_type": "markdown",
   "metadata": {
    "colab_type": "text",
    "id": "8h7Lc6PTTeLn"
   },
   "source": [
    "## Build CNN Model Architecture\n",
    "\n",
    "We will now build our basic 2-layer CNN model architecture."
   ]
  },
  {
   "cell_type": "code",
   "execution_count": 5,
   "metadata": {
    "colab": {
     "base_uri": "https://localhost:8080/",
     "height": 485
    },
    "colab_type": "code",
    "id": "VynDIiOaUXL3",
    "outputId": "190e3ca0-1ba6-48f0-cf52-5a0eb82b8a0c"
   },
   "outputs": [
    {
     "name": "stdout",
     "output_type": "stream",
     "text": [
      "Model: \"sequential\"\n",
      "_________________________________________________________________\n",
      "Layer (type)                 Output Shape              Param #   \n",
      "=================================================================\n",
      "conv2d (Conv2D)              (None, 26, 26, 16)        160       \n",
      "_________________________________________________________________\n",
      "max_pooling2d (MaxPooling2D) (None, 13, 13, 16)        0         \n",
      "_________________________________________________________________\n",
      "conv2d_1 (Conv2D)            (None, 11, 11, 32)        4640      \n",
      "_________________________________________________________________\n",
      "max_pooling2d_1 (MaxPooling2 (None, 5, 5, 32)          0         \n",
      "_________________________________________________________________\n",
      "flatten (Flatten)            (None, 800)               0         \n",
      "_________________________________________________________________\n",
      "dense (Dense)                (None, 256)               205056    \n",
      "_________________________________________________________________\n",
      "dropout (Dropout)            (None, 256)               0         \n",
      "_________________________________________________________________\n",
      "dense_1 (Dense)              (None, 256)               65792     \n",
      "_________________________________________________________________\n",
      "dropout_1 (Dropout)          (None, 256)               0         \n",
      "_________________________________________________________________\n",
      "dense_2 (Dense)              (None, 10)                2570      \n",
      "=================================================================\n",
      "Total params: 278,218\n",
      "Trainable params: 278,218\n",
      "Non-trainable params: 0\n",
      "_________________________________________________________________\n"
     ]
    }
   ],
   "source": [
    "# define input shape\n",
    "INPUT_SHAPE = (28, 28, 1)\n",
    "\n",
    "# define sequential model\n",
    "model = tf.keras.models.Sequential()\n",
    "# define conv-pool layers - set 1\n",
    "model.add(tf.keras.layers.Conv2D(filters=16, kernel_size=(3, 3), strides=(1, 1), \n",
    "                                activation='relu', padding='valid', input_shape=INPUT_SHAPE))\n",
    "model.add(tf.keras.layers.MaxPooling2D(pool_size=(2, 2)))\n",
    "# define conv-pool layers - set 2\n",
    "model.add(tf.keras.layers.Conv2D(filters=32, kernel_size=(3, 3), strides=(1, 1), \n",
    "                                activation='relu', padding='valid'))\n",
    "model.add(tf.keras.layers.MaxPooling2D(pool_size=(2, 2)))\n",
    "\n",
    "# add flatten layer\n",
    "model.add(tf.keras.layers.Flatten())\n",
    "\n",
    "# add dense layers with some dropout\n",
    "model.add(tf.keras.layers.Dense(256, activation='relu'))\n",
    "model.add(tf.keras.layers.Dropout(rate=0.3))\n",
    "model.add(tf.keras.layers.Dense(256, activation='relu'))\n",
    "model.add(tf.keras.layers.Dropout(rate=0.3))\n",
    "\n",
    "# add output layer\n",
    "model.add(tf.keras.layers.Dense(10, activation='softmax'))\n",
    "\n",
    "# compile model\n",
    "model.compile(optimizer='adam', \n",
    "              loss='sparse_categorical_crossentropy', \n",
    "              metrics=['accuracy'])\n",
    "\n",
    "# view model layers\n",
    "model.summary()"
   ]
  },
  {
   "cell_type": "markdown",
   "metadata": {
    "colab_type": "text",
    "id": "A-308F78YFoL"
   },
   "source": [
    "## Model Training\n",
    "\n",
    "Let’s train our model for 100 epochs and look at the performance. We do apply an early-stopping to stop the model training immediately once we don't see an improvement in validation-loss over the last 2 epochs using the `EarlyStopping` callback."
   ]
  },
  {
   "cell_type": "code",
   "execution_count": 6,
   "metadata": {
    "colab": {
     "base_uri": "https://localhost:8080/",
     "height": 318
    },
    "colab_type": "code",
    "id": "5wwvN3kJYhgD",
    "outputId": "6391acd0-3328-4288-8dec-eed16a67bce4"
   },
   "outputs": [
    {
     "name": "stdout",
     "output_type": "stream",
     "text": [
      "Epoch 1/100\n",
      "1688/1688 [==============================] - 6s 3ms/step - loss: 0.5335 - accuracy: 0.8004 - val_loss: 0.3600 - val_accuracy: 0.8622\n",
      "Epoch 2/100\n",
      "1688/1688 [==============================] - 5s 3ms/step - loss: 0.3463 - accuracy: 0.8735 - val_loss: 0.2994 - val_accuracy: 0.8905\n",
      "Epoch 3/100\n",
      "1688/1688 [==============================] - 5s 3ms/step - loss: 0.2994 - accuracy: 0.8904 - val_loss: 0.2721 - val_accuracy: 0.8985\n",
      "Epoch 4/100\n",
      "1688/1688 [==============================] - 5s 3ms/step - loss: 0.2683 - accuracy: 0.9008 - val_loss: 0.2641 - val_accuracy: 0.9050\n",
      "Epoch 5/100\n",
      "1688/1688 [==============================] - 5s 3ms/step - loss: 0.2484 - accuracy: 0.9081 - val_loss: 0.2523 - val_accuracy: 0.9078\n",
      "Epoch 6/100\n",
      "1688/1688 [==============================] - 5s 3ms/step - loss: 0.2298 - accuracy: 0.9149 - val_loss: 0.2477 - val_accuracy: 0.9123\n",
      "Epoch 7/100\n",
      "1688/1688 [==============================] - 5s 3ms/step - loss: 0.2113 - accuracy: 0.9207 - val_loss: 0.2619 - val_accuracy: 0.9057\n",
      "Epoch 8/100\n",
      "1685/1688 [============================>.] - ETA: 0s - loss: 0.2008 - accuracy: 0.9264Restoring model weights from the end of the best epoch.\n",
      "1688/1688 [==============================] - 5s 3ms/step - loss: 0.2008 - accuracy: 0.9264 - val_loss: 0.2623 - val_accuracy: 0.9142\n",
      "Epoch 00008: early stopping\n"
     ]
    }
   ],
   "source": [
    "EPOCHS = 100\n",
    "train_images_scaled = train_images_gr / 255.\n",
    "es_callback = tf.keras.callbacks.EarlyStopping(monitor='val_loss', patience=2, \n",
    "                                               restore_best_weights=True,\n",
    "                                               verbose=1)\n",
    "\n",
    "history = model.fit(train_images_scaled, train_labels,\n",
    "                    batch_size=32,\n",
    "                    callbacks=[es_callback], \n",
    "                    validation_split=0.1, epochs=EPOCHS,\n",
    "                    verbose=1)"
   ]
  },
  {
   "cell_type": "markdown",
   "metadata": {
    "colab_type": "text",
    "id": "owt0MTEmpuLp"
   },
   "source": [
    "## Plot Learning Curves"
   ]
  },
  {
   "cell_type": "code",
   "execution_count": 110,
   "metadata": {
    "colab": {
     "base_uri": "https://localhost:8080/",
     "height": 269
    },
    "colab_type": "code",
    "id": "GZ-aI4KOo8DY",
    "outputId": "e73a1dc8-4de4-40bc-aff3-c0ef985fdb6e"
   },
   "outputs": [
    {
     "data": {
      "image/png": "[encoded data removed]",
      "text/plain": [
       "<Figure size 720x288 with 2 Axes>"
      ]
     },
     "metadata": {
      "needs_background": "light",
      "tags": []
     },
     "output_type": "display_data"
    }
   ],
   "source": [
    "import pandas as pd\n",
    "\n",
    "fig, ax = plt.subplots(1, 2, figsize=(10, 4))\n",
    "\n",
    "history_df = pd.DataFrame(history.history)\n",
    "history_df[['loss', 'val_loss']].plot(kind='line', ax=ax[0])\n",
    "history_df[['accuracy', 'val_accuracy']].plot(kind='line', ax=ax[1]);"
   ]
  },
  {
   "cell_type": "markdown",
   "metadata": {
    "colab_type": "text",
    "id": "kkCjHY9maEif"
   },
   "source": [
    "## Evaluate Model Performance on Test Data"
   ]
  },
  {
   "cell_type": "code",
   "execution_count": 8,
   "metadata": {
    "colab": {
     "base_uri": "https://localhost:8080/",
     "height": 268
    },
    "colab_type": "code",
    "id": "gRx2oIbVZGO2",
    "outputId": "69a9dc54-b5a4-4f2f-ce6c-a054ec42cb4e"
   },
   "outputs": [
    {
     "data": {
      "text/plain": [
       "array([[2.96228220e-09, 1.40729128e-09, 3.28166272e-09, 4.85382123e-10,\n",
       "        3.20554971e-10, 1.31543666e-05, 6.75393474e-09, 2.84109938e-05,\n",
       "        4.73899808e-09, 9.99958396e-01],\n",
       "       [9.57808766e-08, 1.73682932e-12, 9.99968171e-01, 1.73318848e-09,\n",
       "        2.02346037e-05, 5.91135824e-14, 1.14859040e-05, 3.82084577e-15,\n",
       "        1.43269244e-10, 2.11130450e-14],\n",
       "       [7.13950451e-14, 1.00000000e+00, 1.13288734e-18, 3.04978590e-13,\n",
       "        7.09287772e-15, 6.14905968e-23, 3.14292388e-14, 1.75216031e-20,\n",
       "        2.42028604e-20, 7.32643976e-22],\n",
       "       [1.16188266e-11, 1.00000000e+00, 1.48278877e-15, 3.84621085e-10,\n",
       "        1.54540367e-12, 5.56595669e-19, 1.00561772e-11, 8.11787857e-18,\n",
       "        1.61306638e-17, 1.33791108e-18],\n",
       "       [3.43898460e-02, 2.39716082e-05, 1.21074151e-02, 2.02051480e-03,\n",
       "        1.47844879e-02, 1.22156882e-06, 9.36640739e-01, 1.62844697e-06,\n",
       "        2.63113707e-05, 3.75496802e-06]], dtype=float32)"
      ]
     },
     "execution_count": 8,
     "metadata": {
      "tags": []
     },
     "output_type": "execute_result"
    }
   ],
   "source": [
    "test_images_scaled = test_images_gr / 255.\n",
    "predictions = model.predict(test_images_scaled)\n",
    "predictions[:5]"
   ]
  },
  {
   "cell_type": "code",
   "execution_count": 9,
   "metadata": {
    "colab": {
     "base_uri": "https://localhost:8080/",
     "height": 33
    },
    "colab_type": "code",
    "id": "4tvNhKYQaMMI",
    "outputId": "4663365a-3517-4912-fc4d-8d18fc12a69a"
   },
   "outputs": [
    {
     "data": {
      "text/plain": [
       "array([9, 2, 1, 1, 6])"
      ]
     },
     "execution_count": 9,
     "metadata": {
      "tags": []
     },
     "output_type": "execute_result"
    }
   ],
   "source": [
    "prediction_labels = np.argmax(predictions, axis=1)\n",
    "prediction_labels[:5]"
   ]
  },
  {
   "cell_type": "code",
   "execution_count": 10,
   "metadata": {
    "colab": {
     "base_uri": "https://localhost:8080/",
     "height": 630
    },
    "colab_type": "code",
    "id": "n5MxH6THaTOd",
    "outputId": "e10fc33c-413c-445b-abea-45c96689b9ad"
   },
   "outputs": [
    {
     "name": "stdout",
     "output_type": "stream",
     "text": [
      "              precision    recall  f1-score   support\n",
      "\n",
      " T-shirt/top       0.87      0.83      0.85      1000\n",
      "     Trouser       0.99      0.98      0.98      1000\n",
      "    Pullover       0.84      0.87      0.85      1000\n",
      "       Dress       0.91      0.91      0.91      1000\n",
      "        Coat       0.87      0.82      0.85      1000\n",
      "      Sandal       0.98      0.98      0.98      1000\n",
      "       Shirt       0.70      0.76      0.73      1000\n",
      "     Sneaker       0.97      0.94      0.95      1000\n",
      "         Bag       0.99      0.98      0.98      1000\n",
      "  Ankle boot       0.95      0.98      0.96      1000\n",
      "\n",
      "    accuracy                           0.90     10000\n",
      "   macro avg       0.91      0.90      0.91     10000\n",
      "weighted avg       0.91      0.90      0.91     10000\n",
      "\n"
     ]
    },
    {
     "data": {
      "text/html": [
       "<div>\n",
       "<style scoped>\n",
       "    .dataframe tbody tr th:only-of-type {\n",
       "        vertical-align: middle;\n",
       "    }\n",
       "\n",
       "    .dataframe tbody tr th {\n",
       "        vertical-align: top;\n",
       "    }\n",
       "\n",
       "    .dataframe thead th {\n",
       "        text-align: right;\n",
       "    }\n",
       "</style>\n",
       "<table border=\"1\" class=\"dataframe\">\n",
       "  <thead>\n",
       "    <tr style=\"text-align: right;\">\n",
       "      <th></th>\n",
       "      <th>T-shirt/top</th>\n",
       "      <th>Trouser</th>\n",
       "      <th>Pullover</th>\n",
       "      <th>Dress</th>\n",
       "      <th>Coat</th>\n",
       "      <th>Sandal</th>\n",
       "      <th>Shirt</th>\n",
       "      <th>Sneaker</th>\n",
       "      <th>Bag</th>\n",
       "      <th>Ankle boot</th>\n",
       "    </tr>\n",
       "  </thead>\n",
       "  <tbody>\n",
       "    <tr>\n",
       "      <th>T-shirt/top</th>\n",
       "      <td>829</td>\n",
       "      <td>0</td>\n",
       "      <td>17</td>\n",
       "      <td>15</td>\n",
       "      <td>2</td>\n",
       "      <td>1</td>\n",
       "      <td>131</td>\n",
       "      <td>0</td>\n",
       "      <td>5</td>\n",
       "      <td>0</td>\n",
       "    </tr>\n",
       "    <tr>\n",
       "      <th>Trouser</th>\n",
       "      <td>1</td>\n",
       "      <td>976</td>\n",
       "      <td>0</td>\n",
       "      <td>15</td>\n",
       "      <td>0</td>\n",
       "      <td>0</td>\n",
       "      <td>6</td>\n",
       "      <td>0</td>\n",
       "      <td>2</td>\n",
       "      <td>0</td>\n",
       "    </tr>\n",
       "    <tr>\n",
       "      <th>Pullover</th>\n",
       "      <td>12</td>\n",
       "      <td>0</td>\n",
       "      <td>869</td>\n",
       "      <td>6</td>\n",
       "      <td>37</td>\n",
       "      <td>0</td>\n",
       "      <td>76</td>\n",
       "      <td>0</td>\n",
       "      <td>0</td>\n",
       "      <td>0</td>\n",
       "    </tr>\n",
       "    <tr>\n",
       "      <th>Dress</th>\n",
       "      <td>12</td>\n",
       "      <td>4</td>\n",
       "      <td>14</td>\n",
       "      <td>914</td>\n",
       "      <td>20</td>\n",
       "      <td>0</td>\n",
       "      <td>35</td>\n",
       "      <td>0</td>\n",
       "      <td>1</td>\n",
       "      <td>0</td>\n",
       "    </tr>\n",
       "    <tr>\n",
       "      <th>Coat</th>\n",
       "      <td>0</td>\n",
       "      <td>2</td>\n",
       "      <td>72</td>\n",
       "      <td>29</td>\n",
       "      <td>818</td>\n",
       "      <td>0</td>\n",
       "      <td>78</td>\n",
       "      <td>0</td>\n",
       "      <td>1</td>\n",
       "      <td>0</td>\n",
       "    </tr>\n",
       "    <tr>\n",
       "      <th>Sandal</th>\n",
       "      <td>0</td>\n",
       "      <td>0</td>\n",
       "      <td>0</td>\n",
       "      <td>0</td>\n",
       "      <td>0</td>\n",
       "      <td>984</td>\n",
       "      <td>0</td>\n",
       "      <td>9</td>\n",
       "      <td>0</td>\n",
       "      <td>7</td>\n",
       "    </tr>\n",
       "    <tr>\n",
       "      <th>Shirt</th>\n",
       "      <td>94</td>\n",
       "      <td>2</td>\n",
       "      <td>64</td>\n",
       "      <td>22</td>\n",
       "      <td>56</td>\n",
       "      <td>0</td>\n",
       "      <td>758</td>\n",
       "      <td>0</td>\n",
       "      <td>4</td>\n",
       "      <td>0</td>\n",
       "    </tr>\n",
       "    <tr>\n",
       "      <th>Sneaker</th>\n",
       "      <td>0</td>\n",
       "      <td>0</td>\n",
       "      <td>0</td>\n",
       "      <td>0</td>\n",
       "      <td>0</td>\n",
       "      <td>10</td>\n",
       "      <td>0</td>\n",
       "      <td>942</td>\n",
       "      <td>0</td>\n",
       "      <td>48</td>\n",
       "    </tr>\n",
       "    <tr>\n",
       "      <th>Bag</th>\n",
       "      <td>3</td>\n",
       "      <td>1</td>\n",
       "      <td>4</td>\n",
       "      <td>3</td>\n",
       "      <td>3</td>\n",
       "      <td>2</td>\n",
       "      <td>2</td>\n",
       "      <td>5</td>\n",
       "      <td>977</td>\n",
       "      <td>0</td>\n",
       "    </tr>\n",
       "    <tr>\n",
       "      <th>Ankle boot</th>\n",
       "      <td>0</td>\n",
       "      <td>0</td>\n",
       "      <td>0</td>\n",
       "      <td>0</td>\n",
       "      <td>0</td>\n",
       "      <td>4</td>\n",
       "      <td>1</td>\n",
       "      <td>18</td>\n",
       "      <td>0</td>\n",
       "      <td>977</td>\n",
       "    </tr>\n",
       "  </tbody>\n",
       "</table>\n",
       "</div>"
      ],
      "text/plain": [
       "             T-shirt/top  Trouser  Pullover  ...  Sneaker  Bag  Ankle boot\n",
       "T-shirt/top          829        0        17  ...        0    5           0\n",
       "Trouser                1      976         0  ...        0    2           0\n",
       "Pullover              12        0       869  ...        0    0           0\n",
       "Dress                 12        4        14  ...        0    1           0\n",
       "Coat                   0        2        72  ...        0    1           0\n",
       "Sandal                 0        0         0  ...        9    0           7\n",
       "Shirt                 94        2        64  ...        0    4           0\n",
       "Sneaker                0        0         0  ...      942    0          48\n",
       "Bag                    3        1         4  ...        5  977           0\n",
       "Ankle boot             0        0         0  ...       18    0         977\n",
       "\n",
       "[10 rows x 10 columns]"
      ]
     },
     "execution_count": 10,
     "metadata": {
      "tags": []
     },
     "output_type": "execute_result"
    }
   ],
   "source": [
    "from sklearn.metrics import confusion_matrix, classification_report\n",
    "import pandas as pd\n",
    "\n",
    "print(classification_report(test_labels, prediction_labels, target_names=class_names))\n",
    "pd.DataFrame(confusion_matrix(test_labels, prediction_labels), index=class_names, columns=class_names)"
   ]
  },
  {
   "cell_type": "code",
   "execution_count": 11,
   "metadata": {
    "colab": {
     "base_uri": "https://localhost:8080/",
     "height": 67
    },
    "colab_type": "code",
    "id": "9ILK-frTaXwT",
    "outputId": "098cf7d0-a9f2-4a92-f020-41c74777fe16"
   },
   "outputs": [
    {
     "name": "stdout",
     "output_type": "stream",
     "text": [
      "[9 2 1 1 6 1 4 6 5 7 4 5 7 3 4 1 2 4 8 0 2 5 7 9 1 4 6 0 9 3 8 8 3 3 8 0 7\n",
      " 5 7 9 6 1 3 7 6 7 2 1 2 2 4 4 5 8 2 2 8 4 8 0 7 7 8 5 1 1 2 3 9 8 7 0 2 6\n",
      " 2 3 1 2 8 4 1 8 5 9 5 0 3 2 0 6 5 3 6 7 1 8 0 1 4 2]\n"
     ]
    }
   ],
   "source": [
    "print(test_labels[:100])"
   ]
  },
  {
   "cell_type": "code",
   "execution_count": null,
   "metadata": {
    "colab": {},
    "colab_type": "code",
    "id": "HQlhCtz4cOlP"
   },
   "outputs": [],
   "source": [
    "test_labels"
   ]
  },
  {
   "cell_type": "code",
   "execution_count": 50,
   "metadata": {
    "colab": {
     "base_uri": "https://localhost:8080/",
     "height": 33
    },
    "colab_type": "code",
    "id": "1ay3mg-CcHQi",
    "outputId": "ae4b1f07-9ea5-4816-b74b-7b93273168c7"
   },
   "outputs": [
    {
     "data": {
      "text/plain": [
       "array([9, 9, 9], dtype=uint8)"
      ]
     },
     "execution_count": 50,
     "metadata": {
      "tags": []
     },
     "output_type": "execute_result"
    }
   ],
   "source": [
    "test_image_idxs = [0, 23, 28]\n",
    "test_labels[test_image_idxs]"
   ]
  },
  {
   "cell_type": "code",
   "execution_count": 90,
   "metadata": {
    "colab": {},
    "colab_type": "code",
    "id": "kD5GkmqRiTAp"
   },
   "outputs": [],
   "source": [
    "layer_outputs = [layer.output for layer in model.layers]\n",
    "activation_model = tf.keras.models.Model(inputs=model.input, outputs=layer_outputs)"
   ]
  },
  {
   "cell_type": "code",
   "execution_count": 101,
   "metadata": {
    "colab": {
     "base_uri": "https://localhost:8080/",
     "height": 369
    },
    "colab_type": "code",
    "id": "CDIYRi8Wf9YJ",
    "outputId": "1b2d5b9a-5bc9-45a8-c21b-6fd6f498ef73"
   },
   "outputs": [
    {
     "data": {
      "image/png": "[encoded data removed]",
      "text/plain": [
       "<Figure size 576x360 with 12 Axes>"
      ]
     },
     "metadata": {
      "needs_background": "light",
      "tags": []
     },
     "output_type": "display_data"
    }
   ],
   "source": [
    "f, axarr = plt.subplots(3,4, figsize=(8, 5))\n",
    "\n",
    "FIRST_IMAGE=0\n",
    "SECOND_IMAGE=23\n",
    "THIRD_IMAGE=28\n",
    "CONVOLUTION_NUMBER = 13\n",
    "\n",
    "for x in range(0,4):\n",
    "  f1 = activation_model.predict(test_images_scaled[FIRST_IMAGE].reshape(1, 28, 28, 1))[x]\n",
    "  axarr[0,x].imshow(f1[0, : , :, CONVOLUTION_NUMBER], cmap='binary_r')\n",
    "  axarr[0,x].grid(False)\n",
    "  axarr[0,x].set_title(class_names[test_labels[FIRST_IMAGE]])\n",
    "  f2 = activation_model.predict(test_images_scaled[SECOND_IMAGE].reshape(1, 28, 28, 1))[x]\n",
    "  axarr[1,x].imshow(f2[0, : , :, CONVOLUTION_NUMBER], cmap='binary_r')\n",
    "  axarr[1,x].grid(False)\n",
    "  axarr[1,x].set_title(class_names[test_labels[SECOND_IMAGE]])\n",
    "  f3 = activation_model.predict(test_images_scaled[THIRD_IMAGE].reshape(1, 28, 28, 1))[x]\n",
    "  axarr[2,x].imshow(f3[0, : , :, CONVOLUTION_NUMBER], cmap='binary_r')\n",
    "  axarr[2,x].grid(False)\n",
    "  axarr[2,x].set_title(class_names[test_labels[THIRD_IMAGE]])\n",
    "plt.tight_layout()"
   ]
  },
  {
   "cell_type": "code",
   "execution_count": 102,
   "metadata": {
    "colab": {
     "base_uri": "https://localhost:8080/",
     "height": 369
    },
    "colab_type": "code",
    "id": "9Hem_7LYbUNR",
    "outputId": "79a1eeb3-f508-4d20-fb52-6df805db8068"
   },
   "outputs": [
    {
     "data": {
      "image/png": "[encoded data removed]",
      "text/plain": [
       "<Figure size 576x360 with 12 Axes>"
      ]
     },
     "metadata": {
      "needs_background": "light",
      "tags": []
     },
     "output_type": "display_data"
    }
   ],
   "source": [
    "f, axarr = plt.subplots(3,4, figsize=(8, 5))\n",
    "\n",
    "FIRST_IMAGE=2\n",
    "SECOND_IMAGE=3\n",
    "THIRD_IMAGE=5\n",
    "CONVOLUTION_NUMBER = 13\n",
    "\n",
    "for x in range(0,4):\n",
    "  f1 = activation_model.predict(test_images_scaled[FIRST_IMAGE].reshape(1, 28, 28, 1))[x]\n",
    "  axarr[0,x].imshow(f1[0, : , :, CONVOLUTION_NUMBER], cmap='binary_r')\n",
    "  axarr[0,x].grid(False)\n",
    "  axarr[0,x].set_title(class_names[test_labels[FIRST_IMAGE]])\n",
    "  f2 = activation_model.predict(test_images_scaled[SECOND_IMAGE].reshape(1, 28, 28, 1))[x]\n",
    "  axarr[1,x].imshow(f2[0, : , :, CONVOLUTION_NUMBER], cmap='binary_r')\n",
    "  axarr[1,x].grid(False)\n",
    "  axarr[1,x].set_title(class_names[test_labels[SECOND_IMAGE]])\n",
    "  f3 = activation_model.predict(test_images_scaled[THIRD_IMAGE].reshape(1, 28, 28, 1))[x]\n",
    "  axarr[2,x].imshow(f3[0, : , :, CONVOLUTION_NUMBER], cmap='binary_r')\n",
    "  axarr[2,x].grid(False)\n",
    "  axarr[2,x].set_title(class_names[test_labels[THIRD_IMAGE]])\n",
    "plt.tight_layout()"
   ]
  },
  {
   "cell_type": "code",
   "execution_count": 103,
   "metadata": {
    "colab": {
     "base_uri": "https://localhost:8080/",
     "height": 369
    },
    "colab_type": "code",
    "id": "xknjemADivmG",
    "outputId": "5639db1f-b30d-430c-de2e-896ccd23e449"
   },
   "outputs": [
    {
     "data": {
      "image/png": "[encoded data removed]",
      "text/plain": [
       "<Figure size 576x360 with 12 Axes>"
      ]
     },
     "metadata": {
      "needs_background": "light",
      "tags": []
     },
     "output_type": "display_data"
    }
   ],
   "source": [
    "f, axarr = plt.subplots(3,4, figsize=(8, 5))\n",
    "\n",
    "FIRST_IMAGE=2\n",
    "SECOND_IMAGE=3\n",
    "THIRD_IMAGE=5\n",
    "CONVOLUTION_NUMBER = 3\n",
    "\n",
    "for x in range(0,4):\n",
    "  f1 = activation_model.predict(test_images_scaled[FIRST_IMAGE].reshape(1, 28, 28, 1))[x]\n",
    "  axarr[0,x].imshow(f1[0, : , :, CONVOLUTION_NUMBER], cmap='binary_r')\n",
    "  axarr[0,x].grid(False)\n",
    "  axarr[0,x].set_title(class_names[test_labels[FIRST_IMAGE]])\n",
    "  f2 = activation_model.predict(test_images_scaled[SECOND_IMAGE].reshape(1, 28, 28, 1))[x]\n",
    "  axarr[1,x].imshow(f2[0, : , :, CONVOLUTION_NUMBER], cmap='binary_r')\n",
    "  axarr[1,x].grid(False)\n",
    "  axarr[1,x].set_title(class_names[test_labels[SECOND_IMAGE]])\n",
    "  f3 = activation_model.predict(test_images_scaled[THIRD_IMAGE].reshape(1, 28, 28, 1))[x]\n",
    "  axarr[2,x].imshow(f3[0, : , :, CONVOLUTION_NUMBER], cmap='binary_r')\n",
    "  axarr[2,x].grid(False)\n",
    "  axarr[2,x].set_title(class_names[test_labels[THIRD_IMAGE]])\n",
    "plt.tight_layout()"
   ]
  },
  {
   "cell_type": "markdown",
   "metadata": {
    "colab_type": "text",
    "id": "5wnn1-8VdCkD"
   },
   "source": [
    "# 2. Fine-tuning a pre-trained VGG-19 CNN Model\n",
    "\n",
    "Here, we will use a VGG-19 model which was pre-trained on the ImageNet dataset by fine-tuning it on the Fashion-MNIST dataset. "
   ]
  },
  {
   "cell_type": "markdown",
   "metadata": {
    "colab_type": "text",
    "id": "xzGbhY3JoDMN"
   },
   "source": [
    "## Transfer Learning\n",
    "\n",
    "![](https://i.imgur.com/WcUabml.png)"
   ]
  },
  {
   "cell_type": "markdown",
   "metadata": {
    "colab_type": "text",
    "id": "xS5Y0TK-oYUn"
   },
   "source": [
    "## Model Architecture Details\n",
    "\n",
    "![](https://i.imgur.com/1VZ7MlO.png)"
   ]
  },
  {
   "cell_type": "markdown",
   "metadata": {
    "colab_type": "text",
    "id": "HKlC9s2vo486"
   },
   "source": [
    "## Reshaping Image Data for Modeling\n",
    "\n",
    "We do need to reshape our data before we train our model. Here we will convert the images to 3-channel images (image pixel tensors) as the VGG model was originally trained on RGB images"
   ]
  },
  {
   "cell_type": "code",
   "execution_count": 111,
   "metadata": {
    "colab": {
     "base_uri": "https://localhost:8080/",
     "height": 67
    },
    "colab_type": "code",
    "id": "COpBZv4AqETx",
    "outputId": "02c089c2-d081-4629-9fa9-b6e52f026a69"
   },
   "outputs": [
    {
     "name": "stdout",
     "output_type": "stream",
     "text": [
      "\n",
      "Train_images.shape: (60000, 28, 28, 3), of uint8\n",
      "Test_images.shape: (10000, 28, 28, 3), of uint8\n"
     ]
    }
   ],
   "source": [
    "train_images_3ch = np.stack([train_images]*3, axis=-1)\n",
    "test_images_3ch = np.stack([test_images]*3, axis=-1)\n",
    "\n",
    "print('\\nTrain_images.shape: {}, of {}'.format(train_images_3ch.shape, train_images_3ch.dtype))\n",
    "print('Test_images.shape: {}, of {}'.format(test_images_3ch.shape, test_images_3ch.dtype))"
   ]
  },
  {
   "cell_type": "markdown",
   "metadata": {
    "colab_type": "text",
    "id": "WhZ0rlEEqGm_"
   },
   "source": [
    "## Resizing Image Data for Modeling\n",
    "\n",
    "The minimum image size expected by the VGG model is 32x32 so we need to resize our images"
   ]
  },
  {
   "cell_type": "code",
   "execution_count": 112,
   "metadata": {
    "colab": {},
    "colab_type": "code",
    "id": "wzyKQaYJqLcO"
   },
   "outputs": [],
   "source": [
    "import cv2\n",
    "\n",
    "def resize_image_array(img, img_size_dims):\n",
    "    img = cv2.resize(img, dsize=img_size_dims, \n",
    "                     interpolation=cv2.INTER_CUBIC)\n",
    "    img = np.array(img, dtype=np.float32)\n",
    "    return img"
   ]
  },
  {
   "cell_type": "code",
   "execution_count": 113,
   "metadata": {
    "colab": {
     "base_uri": "https://localhost:8080/",
     "height": 100
    },
    "colab_type": "code",
    "id": "oDqdYoMjqQZg",
    "outputId": "82b4acf1-a592-4cc2-eee7-8f3de5e2f493"
   },
   "outputs": [
    {
     "name": "stdout",
     "output_type": "stream",
     "text": [
      "\n",
      "Train_images.shape: (60000, 32, 32, 3), of float32\n",
      "Test_images.shape: (10000, 32, 32, 3), of float32\n",
      "CPU times: user 1.8 s, sys: 734 ms, total: 2.53 s\n",
      "Wall time: 2.55 s\n"
     ]
    }
   ],
   "source": [
    "%%time\n",
    "\n",
    "IMG_DIMS = (32, 32)\n",
    "\n",
    "train_images_3ch = np.array([resize_image_array(img, img_size_dims=IMG_DIMS) for img in train_images_3ch])\n",
    "test_images_3ch = np.array([resize_image_array(img, img_size_dims=IMG_DIMS) for img in test_images_3ch])\n",
    "\n",
    "print('\\nTrain_images.shape: {}, of {}'.format(train_images_3ch.shape, train_images_3ch.dtype))\n",
    "print('Test_images.shape: {}, of {}'.format(test_images_3ch.shape, test_images_3ch.dtype))"
   ]
  },
  {
   "cell_type": "markdown",
   "metadata": {
    "colab_type": "text",
    "id": "zLNlDxweqTFD"
   },
   "source": [
    "## Build CNN Model Architecture\n",
    "\n",
    "We will now build our CNN model architecture customizing the VGG-19 model."
   ]
  },
  {
   "cell_type": "markdown",
   "metadata": {
    "colab_type": "text",
    "id": "jyWXrAFtrfkm"
   },
   "source": [
    "### Build Cut-VGG19 Model"
   ]
  },
  {
   "cell_type": "code",
   "execution_count": 115,
   "metadata": {
    "colab": {
     "base_uri": "https://localhost:8080/",
     "height": 920
    },
    "colab_type": "code",
    "id": "lkWEAB5cqw0z",
    "outputId": "e0223ba2-909e-4f5b-a771-820d4c880988"
   },
   "outputs": [
    {
     "name": "stdout",
     "output_type": "stream",
     "text": [
      "Downloading data from https://storage.googleapis.com/tensorflow/keras-applications/vgg19/vgg19_weights_tf_dim_ordering_tf_kernels_notop.h5\n",
      "80142336/80134624 [==============================] - 1s 0us/step\n",
      "Model: \"vgg19\"\n",
      "_________________________________________________________________\n",
      "Layer (type)                 Output Shape              Param #   \n",
      "=================================================================\n",
      "input_1 (InputLayer)         [(None, 32, 32, 3)]       0         \n",
      "_________________________________________________________________\n",
      "block1_conv1 (Conv2D)        (None, 32, 32, 64)        1792      \n",
      "_________________________________________________________________\n",
      "block1_conv2 (Conv2D)        (None, 32, 32, 64)        36928     \n",
      "_________________________________________________________________\n",
      "block1_pool (MaxPooling2D)   (None, 16, 16, 64)        0         \n",
      "_________________________________________________________________\n",
      "block2_conv1 (Conv2D)        (None, 16, 16, 128)       73856     \n",
      "_________________________________________________________________\n",
      "block2_conv2 (Conv2D)        (None, 16, 16, 128)       147584    \n",
      "_________________________________________________________________\n",
      "block2_pool (MaxPooling2D)   (None, 8, 8, 128)         0         \n",
      "_________________________________________________________________\n",
      "block3_conv1 (Conv2D)        (None, 8, 8, 256)         295168    \n",
      "_________________________________________________________________\n",
      "block3_conv2 (Conv2D)        (None, 8, 8, 256)         590080    \n",
      "_________________________________________________________________\n",
      "block3_conv3 (Conv2D)        (None, 8, 8, 256)         590080    \n",
      "_________________________________________________________________\n",
      "block3_conv4 (Conv2D)        (None, 8, 8, 256)         590080    \n",
      "_________________________________________________________________\n",
      "block3_pool (MaxPooling2D)   (None, 4, 4, 256)         0         \n",
      "_________________________________________________________________\n",
      "block4_conv1 (Conv2D)        (None, 4, 4, 512)         1180160   \n",
      "_________________________________________________________________\n",
      "block4_conv2 (Conv2D)        (None, 4, 4, 512)         2359808   \n",
      "_________________________________________________________________\n",
      "block4_conv3 (Conv2D)        (None, 4, 4, 512)         2359808   \n",
      "_________________________________________________________________\n",
      "block4_conv4 (Conv2D)        (None, 4, 4, 512)         2359808   \n",
      "_________________________________________________________________\n",
      "block4_pool (MaxPooling2D)   (None, 2, 2, 512)         0         \n",
      "_________________________________________________________________\n",
      "block5_conv1 (Conv2D)        (None, 2, 2, 512)         2359808   \n",
      "_________________________________________________________________\n",
      "block5_conv2 (Conv2D)        (None, 2, 2, 512)         2359808   \n",
      "_________________________________________________________________\n",
      "block5_conv3 (Conv2D)        (None, 2, 2, 512)         2359808   \n",
      "_________________________________________________________________\n",
      "block5_conv4 (Conv2D)        (None, 2, 2, 512)         2359808   \n",
      "_________________________________________________________________\n",
      "block5_pool (MaxPooling2D)   (None, 1, 1, 512)         0         \n",
      "=================================================================\n",
      "Total params: 20,024,384\n",
      "Trainable params: 20,024,384\n",
      "Non-trainable params: 0\n",
      "_________________________________________________________________\n"
     ]
    }
   ],
   "source": [
    "# define input shape\n",
    "INPUT_SHAPE = (32, 32, 3)\n",
    "\n",
    "# get the VGG19 model\n",
    "vgg_layers = tf.keras.applications.vgg19.VGG19(weights='imagenet', include_top=False, \n",
    "                                               input_shape=INPUT_SHAPE)\n",
    "\n",
    "vgg_layers.summary()"
   ]
  },
  {
   "cell_type": "markdown",
   "metadata": {
    "colab_type": "text",
    "id": "agsXqdxQrj7u"
   },
   "source": [
    "### Set layers to trainable to enable fine-tuning"
   ]
  },
  {
   "cell_type": "code",
   "execution_count": 116,
   "metadata": {
    "colab": {
     "base_uri": "https://localhost:8080/",
     "height": 385
    },
    "colab_type": "code",
    "id": "2CXLl2jDrBEV",
    "outputId": "c8dc5b7e-77bf-4e86-de2c-2ac56bf46bfa"
   },
   "outputs": [
    {
     "name": "stdout",
     "output_type": "stream",
     "text": [
      "<tensorflow.python.keras.engine.input_layer.InputLayer object at 0x7fe653caffd0> True\n",
      "<tensorflow.python.keras.layers.convolutional.Conv2D object at 0x7fe656688908> True\n",
      "<tensorflow.python.keras.layers.convolutional.Conv2D object at 0x7fe654390b38> True\n",
      "<tensorflow.python.keras.layers.pooling.MaxPooling2D object at 0x7fe653c61278> True\n",
      "<tensorflow.python.keras.layers.convolutional.Conv2D object at 0x7fe653c61358> True\n",
      "<tensorflow.python.keras.layers.convolutional.Conv2D object at 0x7fe653c75cf8> True\n",
      "<tensorflow.python.keras.layers.pooling.MaxPooling2D object at 0x7fe653c759b0> True\n",
      "<tensorflow.python.keras.layers.convolutional.Conv2D object at 0x7fe653c7d940> True\n",
      "<tensorflow.python.keras.layers.convolutional.Conv2D object at 0x7fe653c097b8> True\n",
      "<tensorflow.python.keras.layers.convolutional.Conv2D object at 0x7fe653c09860> True\n",
      "<tensorflow.python.keras.layers.convolutional.Conv2D object at 0x7fe653c117b8> True\n",
      "<tensorflow.python.keras.layers.pooling.MaxPooling2D object at 0x7fe653c173c8> True\n",
      "<tensorflow.python.keras.layers.convolutional.Conv2D object at 0x7fe653c17b70> True\n",
      "<tensorflow.python.keras.layers.convolutional.Conv2D object at 0x7fe653c1f9e8> True\n",
      "<tensorflow.python.keras.layers.convolutional.Conv2D object at 0x7fe653c1fac8> True\n",
      "<tensorflow.python.keras.layers.convolutional.Conv2D object at 0x7fe653c289e8> True\n",
      "<tensorflow.python.keras.layers.pooling.MaxPooling2D object at 0x7fe653c305c0> True\n",
      "<tensorflow.python.keras.layers.convolutional.Conv2D object at 0x7fe653c30da0> True\n",
      "<tensorflow.python.keras.layers.convolutional.Conv2D object at 0x7fe653c38c18> True\n",
      "<tensorflow.python.keras.layers.convolutional.Conv2D object at 0x7fe653c38b70> True\n",
      "<tensorflow.python.keras.layers.convolutional.Conv2D object at 0x7fe653c40908> True\n",
      "<tensorflow.python.keras.layers.pooling.MaxPooling2D object at 0x7fe653bc97f0> True\n"
     ]
    }
   ],
   "source": [
    "# Fine-tune all the layers\n",
    "for layer in vgg_layers.layers:\n",
    "    layer.trainable = True\n",
    "\n",
    "# Check the trainable status of the individual layers\n",
    "for layer in vgg_layers.layers:\n",
    "    print(layer, layer.trainable)"
   ]
  },
  {
   "cell_type": "markdown",
   "metadata": {
    "colab_type": "text",
    "id": "u5ZRD7wsrn9Z"
   },
   "source": [
    "### Build CNN model on top of VGG19"
   ]
  },
  {
   "cell_type": "code",
   "execution_count": 119,
   "metadata": {
    "colab": {
     "base_uri": "https://localhost:8080/",
     "height": 385
    },
    "colab_type": "code",
    "id": "OVIxVkRLqhNO",
    "outputId": "a5c3c372-c7cd-44b4-dfed-9808f9b47468"
   },
   "outputs": [
    {
     "name": "stdout",
     "output_type": "stream",
     "text": [
      "Model: \"sequential_2\"\n",
      "_________________________________________________________________\n",
      "Layer (type)                 Output Shape              Param #   \n",
      "=================================================================\n",
      "vgg19 (Functional)           (None, 1, 1, 512)         20024384  \n",
      "_________________________________________________________________\n",
      "flatten_1 (Flatten)          (None, 512)               0         \n",
      "_________________________________________________________________\n",
      "dense_3 (Dense)              (None, 256)               131328    \n",
      "_________________________________________________________________\n",
      "dropout_2 (Dropout)          (None, 256)               0         \n",
      "_________________________________________________________________\n",
      "dense_4 (Dense)              (None, 256)               65792     \n",
      "_________________________________________________________________\n",
      "dropout_3 (Dropout)          (None, 256)               0         \n",
      "_________________________________________________________________\n",
      "dense_5 (Dense)              (None, 10)                2570      \n",
      "=================================================================\n",
      "Total params: 20,224,074\n",
      "Trainable params: 20,224,074\n",
      "Non-trainable params: 0\n",
      "_________________________________________________________________\n"
     ]
    }
   ],
   "source": [
    "# define sequential model\n",
    "model = tf.keras.models.Sequential()\n",
    "\n",
    "# Add the vgg convolutional base model\n",
    "model.add(vgg_layers)\n",
    "\n",
    "# add flatten layer\n",
    "model.add(tf.keras.layers.Flatten())\n",
    "\n",
    "# add dense layers with some dropout\n",
    "model.add(tf.keras.layers.Dense(256, activation='relu'))\n",
    "model.add(tf.keras.layers.Dropout(rate=0.3))\n",
    "model.add(tf.keras.layers.Dense(256, activation='relu'))\n",
    "model.add(tf.keras.layers.Dropout(rate=0.3))\n",
    "\n",
    "# add output layer\n",
    "model.add(tf.keras.layers.Dense(10, activation='softmax'))\n",
    "\n",
    "# compile model\n",
    "model.compile(optimizer=tf.keras.optimizers.Adam(learning_rate=2e-5), \n",
    "              loss='sparse_categorical_crossentropy', \n",
    "              metrics=['accuracy'])\n",
    "\n",
    "# view model layers\n",
    "model.summary()"
   ]
  },
  {
   "cell_type": "code",
   "execution_count": 120,
   "metadata": {
    "colab": {
     "base_uri": "https://localhost:8080/",
     "height": 284
    },
    "colab_type": "code",
    "id": "KG8QTQDpr5q1",
    "outputId": "0364707e-6f3a-4d95-ba9b-e24fe7b0b14c"
   },
   "outputs": [
    {
     "name": "stdout",
     "output_type": "stream",
     "text": [
      "Epoch 1/100\n",
      "1688/1688 [==============================] - 25s 15ms/step - loss: 0.5117 - accuracy: 0.8261 - val_loss: 0.3576 - val_accuracy: 0.8742\n",
      "Epoch 2/100\n",
      "1688/1688 [==============================] - 25s 15ms/step - loss: 0.3090 - accuracy: 0.8960 - val_loss: 0.2738 - val_accuracy: 0.9052\n",
      "Epoch 3/100\n",
      "1688/1688 [==============================] - 25s 15ms/step - loss: 0.2615 - accuracy: 0.9101 - val_loss: 0.2462 - val_accuracy: 0.9135\n",
      "Epoch 4/100\n",
      "1688/1688 [==============================] - 25s 15ms/step - loss: 0.2260 - accuracy: 0.9214 - val_loss: 0.2161 - val_accuracy: 0.9207\n",
      "Epoch 5/100\n",
      "1688/1688 [==============================] - 25s 15ms/step - loss: 0.2010 - accuracy: 0.9306 - val_loss: 0.2127 - val_accuracy: 0.9230\n",
      "Epoch 6/100\n",
      "1688/1688 [==============================] - 25s 15ms/step - loss: 0.1776 - accuracy: 0.9378 - val_loss: 0.2484 - val_accuracy: 0.9213\n",
      "Epoch 7/100\n",
      "1685/1688 [============================>.] - ETA: 0s - loss: 0.1598 - accuracy: 0.9453Restoring model weights from the end of the best epoch.\n",
      "1688/1688 [==============================] - 25s 15ms/step - loss: 0.1597 - accuracy: 0.9453 - val_loss: 0.2135 - val_accuracy: 0.9248\n",
      "Epoch 00007: early stopping\n"
     ]
    }
   ],
   "source": [
    "EPOCHS = 100\n",
    "train_images_3ch_scaled = train_images_3ch / 255.\n",
    "es_callback = tf.keras.callbacks.EarlyStopping(monitor='val_loss', patience=2, \n",
    "                                               restore_best_weights=True,\n",
    "                                               verbose=1)\n",
    "\n",
    "history = model.fit(train_images_3ch_scaled, train_labels,\n",
    "                    batch_size=32,\n",
    "                    callbacks=[es_callback], \n",
    "                    validation_split=0.1, epochs=EPOCHS,\n",
    "                    verbose=1)"
   ]
  },
  {
   "cell_type": "markdown",
   "metadata": {
    "colab_type": "text",
    "id": "_zoaG0Ensxc_"
   },
   "source": [
    "## Plot Learning Curves"
   ]
  },
  {
   "cell_type": "code",
   "execution_count": 121,
   "metadata": {
    "colab": {
     "base_uri": "https://localhost:8080/",
     "height": 265
    },
    "colab_type": "code",
    "id": "avZAjaJZsTsq",
    "outputId": "651d6cdd-ef35-413b-f183-7edd8b4febd0"
   },
   "outputs": [
    {
     "data": {
      "image/png": "[encoded data removed]",
      "text/plain": [
       "<Figure size 720x288 with 2 Axes>"
      ]
     },
     "metadata": {
      "needs_background": "light",
      "tags": []
     },
     "output_type": "display_data"
    }
   ],
   "source": [
    "fig, ax = plt.subplots(1, 2, figsize=(10, 4))\n",
    "\n",
    "history_df = pd.DataFrame(history.history)\n",
    "history_df[['loss', 'val_loss']].plot(kind='line', ax=ax[0])\n",
    "history_df[['accuracy', 'val_accuracy']].plot(kind='line', ax=ax[1]);"
   ]
  },
  {
   "cell_type": "markdown",
   "metadata": {
    "colab_type": "text",
    "id": "xoJGVnVFs5Bw"
   },
   "source": [
    "## Evaluate Model Performance on Test Data"
   ]
  },
  {
   "cell_type": "code",
   "execution_count": 122,
   "metadata": {
    "colab": {
     "base_uri": "https://localhost:8080/",
     "height": 268
    },
    "colab_type": "code",
    "id": "DryNyR2Ns__y",
    "outputId": "eec5e8ea-7ab9-40dd-8f8d-49182dadb98b"
   },
   "outputs": [
    {
     "data": {
      "text/plain": [
       "array([[8.0858683e-08, 2.2102162e-08, 4.0208749e-07, 1.5100730e-07,\n",
       "        2.3231181e-08, 1.0232615e-05, 9.6737892e-08, 3.2935161e-05,\n",
       "        6.5501467e-08, 9.9995589e-01],\n",
       "       [2.7050645e-04, 4.7154421e-07, 9.9740195e-01, 6.7716223e-06,\n",
       "        4.5036795e-04, 8.7788221e-06, 1.8488017e-03, 9.7552322e-07,\n",
       "        7.1788072e-06, 4.2545880e-06],\n",
       "       [6.4433317e-13, 1.0000000e+00, 3.6955276e-11, 7.0705547e-10,\n",
       "        1.7348568e-10, 1.1461806e-10, 2.1015967e-10, 7.6561500e-11,\n",
       "        2.1835127e-12, 2.8746274e-12],\n",
       "       [2.1091939e-09, 9.9999928e-01, 4.2920448e-08, 3.0445591e-07,\n",
       "        1.6110026e-07, 8.2360707e-08, 1.3449203e-07, 3.4065867e-08,\n",
       "        4.3121871e-09, 4.7462385e-09],\n",
       "       [3.8659373e-01, 8.4636587e-04, 4.5173857e-02, 7.4913315e-03,\n",
       "        1.2365985e-02, 1.4424956e-03, 5.3948390e-01, 1.7889136e-03,\n",
       "        3.1418428e-03, 1.6716000e-03]], dtype=float32)"
      ]
     },
     "execution_count": 122,
     "metadata": {
      "tags": []
     },
     "output_type": "execute_result"
    }
   ],
   "source": [
    "test_images_3ch_scaled = test_images_3ch / 255.\n",
    "predictions = model.predict(test_images_3ch_scaled)\n",
    "predictions[:5]"
   ]
  },
  {
   "cell_type": "code",
   "execution_count": 123,
   "metadata": {
    "colab": {
     "base_uri": "https://localhost:8080/",
     "height": 33
    },
    "colab_type": "code",
    "id": "Bv7Ep2FPtEIg",
    "outputId": "f309b66c-c4e2-4710-b5cd-3b5f9421b452"
   },
   "outputs": [
    {
     "data": {
      "text/plain": [
       "array([9, 2, 1, 1, 6])"
      ]
     },
     "execution_count": 123,
     "metadata": {
      "tags": []
     },
     "output_type": "execute_result"
    }
   ],
   "source": [
    "prediction_labels = np.argmax(predictions, axis=1)\n",
    "prediction_labels[:5]"
   ]
  },
  {
   "cell_type": "code",
   "execution_count": 124,
   "metadata": {
    "colab": {
     "base_uri": "https://localhost:8080/",
     "height": 630
    },
    "colab_type": "code",
    "id": "Y0Q2SkUYtF0O",
    "outputId": "9e0fb3df-663f-404e-a450-edae8ae6c7fb"
   },
   "outputs": [
    {
     "name": "stdout",
     "output_type": "stream",
     "text": [
      "              precision    recall  f1-score   support\n",
      "\n",
      " T-shirt/top       0.84      0.91      0.87      1000\n",
      "     Trouser       1.00      0.98      0.99      1000\n",
      "    Pullover       0.90      0.86      0.88      1000\n",
      "       Dress       0.96      0.86      0.91      1000\n",
      "        Coat       0.83      0.90      0.87      1000\n",
      "      Sandal       0.98      0.99      0.98      1000\n",
      "       Shirt       0.78      0.78      0.78      1000\n",
      "     Sneaker       0.96      0.97      0.97      1000\n",
      "         Bag       0.99      0.99      0.99      1000\n",
      "  Ankle boot       0.99      0.96      0.97      1000\n",
      "\n",
      "    accuracy                           0.92     10000\n",
      "   macro avg       0.92      0.92      0.92     10000\n",
      "weighted avg       0.92      0.92      0.92     10000\n",
      "\n"
     ]
    },
    {
     "data": {
      "text/html": [
       "<div>\n",
       "<style scoped>\n",
       "    .dataframe tbody tr th:only-of-type {\n",
       "        vertical-align: middle;\n",
       "    }\n",
       "\n",
       "    .dataframe tbody tr th {\n",
       "        vertical-align: top;\n",
       "    }\n",
       "\n",
       "    .dataframe thead th {\n",
       "        text-align: right;\n",
       "    }\n",
       "</style>\n",
       "<table border=\"1\" class=\"dataframe\">\n",
       "  <thead>\n",
       "    <tr style=\"text-align: right;\">\n",
       "      <th></th>\n",
       "      <th>T-shirt/top</th>\n",
       "      <th>Trouser</th>\n",
       "      <th>Pullover</th>\n",
       "      <th>Dress</th>\n",
       "      <th>Coat</th>\n",
       "      <th>Sandal</th>\n",
       "      <th>Shirt</th>\n",
       "      <th>Sneaker</th>\n",
       "      <th>Bag</th>\n",
       "      <th>Ankle boot</th>\n",
       "    </tr>\n",
       "  </thead>\n",
       "  <tbody>\n",
       "    <tr>\n",
       "      <th>T-shirt/top</th>\n",
       "      <td>907</td>\n",
       "      <td>0</td>\n",
       "      <td>10</td>\n",
       "      <td>6</td>\n",
       "      <td>3</td>\n",
       "      <td>0</td>\n",
       "      <td>67</td>\n",
       "      <td>0</td>\n",
       "      <td>7</td>\n",
       "      <td>0</td>\n",
       "    </tr>\n",
       "    <tr>\n",
       "      <th>Trouser</th>\n",
       "      <td>7</td>\n",
       "      <td>978</td>\n",
       "      <td>1</td>\n",
       "      <td>7</td>\n",
       "      <td>2</td>\n",
       "      <td>0</td>\n",
       "      <td>3</td>\n",
       "      <td>0</td>\n",
       "      <td>2</td>\n",
       "      <td>0</td>\n",
       "    </tr>\n",
       "    <tr>\n",
       "      <th>Pullover</th>\n",
       "      <td>14</td>\n",
       "      <td>0</td>\n",
       "      <td>856</td>\n",
       "      <td>7</td>\n",
       "      <td>46</td>\n",
       "      <td>0</td>\n",
       "      <td>77</td>\n",
       "      <td>0</td>\n",
       "      <td>0</td>\n",
       "      <td>0</td>\n",
       "    </tr>\n",
       "    <tr>\n",
       "      <th>Dress</th>\n",
       "      <td>40</td>\n",
       "      <td>1</td>\n",
       "      <td>7</td>\n",
       "      <td>863</td>\n",
       "      <td>57</td>\n",
       "      <td>0</td>\n",
       "      <td>30</td>\n",
       "      <td>0</td>\n",
       "      <td>1</td>\n",
       "      <td>1</td>\n",
       "    </tr>\n",
       "    <tr>\n",
       "      <th>Coat</th>\n",
       "      <td>3</td>\n",
       "      <td>0</td>\n",
       "      <td>48</td>\n",
       "      <td>3</td>\n",
       "      <td>901</td>\n",
       "      <td>0</td>\n",
       "      <td>45</td>\n",
       "      <td>0</td>\n",
       "      <td>0</td>\n",
       "      <td>0</td>\n",
       "    </tr>\n",
       "    <tr>\n",
       "      <th>Sandal</th>\n",
       "      <td>0</td>\n",
       "      <td>0</td>\n",
       "      <td>0</td>\n",
       "      <td>0</td>\n",
       "      <td>0</td>\n",
       "      <td>991</td>\n",
       "      <td>0</td>\n",
       "      <td>7</td>\n",
       "      <td>0</td>\n",
       "      <td>2</td>\n",
       "    </tr>\n",
       "    <tr>\n",
       "      <th>Shirt</th>\n",
       "      <td>99</td>\n",
       "      <td>0</td>\n",
       "      <td>31</td>\n",
       "      <td>11</td>\n",
       "      <td>72</td>\n",
       "      <td>0</td>\n",
       "      <td>783</td>\n",
       "      <td>0</td>\n",
       "      <td>4</td>\n",
       "      <td>0</td>\n",
       "    </tr>\n",
       "    <tr>\n",
       "      <th>Sneaker</th>\n",
       "      <td>0</td>\n",
       "      <td>0</td>\n",
       "      <td>0</td>\n",
       "      <td>0</td>\n",
       "      <td>0</td>\n",
       "      <td>15</td>\n",
       "      <td>0</td>\n",
       "      <td>975</td>\n",
       "      <td>0</td>\n",
       "      <td>10</td>\n",
       "    </tr>\n",
       "    <tr>\n",
       "      <th>Bag</th>\n",
       "      <td>4</td>\n",
       "      <td>0</td>\n",
       "      <td>0</td>\n",
       "      <td>0</td>\n",
       "      <td>1</td>\n",
       "      <td>3</td>\n",
       "      <td>0</td>\n",
       "      <td>0</td>\n",
       "      <td>992</td>\n",
       "      <td>0</td>\n",
       "    </tr>\n",
       "    <tr>\n",
       "      <th>Ankle boot</th>\n",
       "      <td>0</td>\n",
       "      <td>0</td>\n",
       "      <td>0</td>\n",
       "      <td>0</td>\n",
       "      <td>0</td>\n",
       "      <td>4</td>\n",
       "      <td>1</td>\n",
       "      <td>34</td>\n",
       "      <td>0</td>\n",
       "      <td>961</td>\n",
       "    </tr>\n",
       "  </tbody>\n",
       "</table>\n",
       "</div>"
      ],
      "text/plain": [
       "             T-shirt/top  Trouser  Pullover  ...  Sneaker  Bag  Ankle boot\n",
       "T-shirt/top          907        0        10  ...        0    7           0\n",
       "Trouser                7      978         1  ...        0    2           0\n",
       "Pullover              14        0       856  ...        0    0           0\n",
       "Dress                 40        1         7  ...        0    1           1\n",
       "Coat                   3        0        48  ...        0    0           0\n",
       "Sandal                 0        0         0  ...        7    0           2\n",
       "Shirt                 99        0        31  ...        0    4           0\n",
       "Sneaker                0        0         0  ...      975    0          10\n",
       "Bag                    4        0         0  ...        0  992           0\n",
       "Ankle boot             0        0         0  ...       34    0         961\n",
       "\n",
       "[10 rows x 10 columns]"
      ]
     },
     "execution_count": 124,
     "metadata": {
      "tags": []
     },
     "output_type": "execute_result"
    }
   ],
   "source": [
    "print(classification_report(test_labels, prediction_labels, target_names=class_names))\n",
    "pd.DataFrame(confusion_matrix(test_labels, prediction_labels), index=class_names, columns=class_names)"
   ]
  }
 ],
 "metadata": {
  "accelerator": "GPU",
  "colab": {
   "collapsed_sections": [],
   "name": "02 - Convolutional Neural Network - Essentials - CNN Classifiers.ipynb",
   "provenance": []
  },
  "kernelspec": {
   "display_name": "Python 3",
   "language": "python",
   "name": "python3"
  },
  "language_info": {
   "codemirror_mode": {
    "name": "ipython",
    "version": 3
   },
   "file_extension": ".py",
   "mimetype": "text/x-python",
   "name": "python",
   "nbconvert_exporter": "python",
   "pygments_lexer": "ipython3",
   "version": "3.8.2"
  }
 },
 "nbformat": 4,
 "nbformat_minor": 1
}
